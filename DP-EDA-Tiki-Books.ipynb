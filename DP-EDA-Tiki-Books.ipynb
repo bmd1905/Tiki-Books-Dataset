{
 "cells": [
  {
   "cell_type": "code",
   "execution_count": 1,
   "id": "4cc3d6d4",
   "metadata": {
    "_cell_guid": "b1076dfc-b9ad-4769-8c92-a6c4dae69d19",
    "_uuid": "8f2839f25d086af736a60e9eeb907d3b93b6e0e5",
    "execution": {
     "iopub.execute_input": "2022-12-12T14:39:58.651929Z",
     "iopub.status.busy": "2022-12-12T14:39:58.651134Z",
     "iopub.status.idle": "2022-12-12T14:39:58.671575Z",
     "shell.execute_reply": "2022-12-12T14:39:58.670682Z"
    },
    "papermill": {
     "duration": 0.048688,
     "end_time": "2022-12-12T14:39:58.675366",
     "exception": false,
     "start_time": "2022-12-12T14:39:58.626678",
     "status": "completed"
    },
    "tags": []
   },
   "outputs": [
    {
     "name": "stdout",
     "output_type": "stream",
     "text": [
      "/kaggle/input/tiki-books-dataset/comments.csv\n",
      "/kaggle/input/tiki-books-dataset/book_data.csv\n",
      "/kaggle/input/tiki-books-dataset/book_id.csv\n"
     ]
    }
   ],
   "source": [
    "import os\n",
    "for dirname, _, filenames in os.walk('/kaggle/input'):\n",
    "    for filename in filenames:\n",
    "        print(os.path.join(dirname, filename))"
   ]
  },
  {
   "cell_type": "markdown",
   "id": "90eceb1b",
   "metadata": {
    "papermill": {
     "duration": 0.020392,
     "end_time": "2022-12-12T14:39:58.721156",
     "exception": false,
     "start_time": "2022-12-12T14:39:58.700764",
     "status": "completed"
    },
    "tags": []
   },
   "source": [
    "# 1. Import Libraries"
   ]
  },
  {
   "cell_type": "code",
   "execution_count": 2,
   "id": "c414fa83",
   "metadata": {
    "execution": {
     "iopub.execute_input": "2022-12-12T14:39:58.760170Z",
     "iopub.status.busy": "2022-12-12T14:39:58.759773Z",
     "iopub.status.idle": "2022-12-12T14:40:01.353255Z",
     "shell.execute_reply": "2022-12-12T14:40:01.352070Z"
    },
    "papermill": {
     "duration": 2.616076,
     "end_time": "2022-12-12T14:40:01.356137",
     "exception": false,
     "start_time": "2022-12-12T14:39:58.740061",
     "status": "completed"
    },
    "tags": []
   },
   "outputs": [],
   "source": [
    "import numpy as np\n",
    "import pandas as pd\n",
    "import os\n",
    "import matplotlib.pyplot as plt\n",
    "import plotly.express as px\n",
    "import seaborn as sns\n",
    "import plotly.express as px\n",
    "import cv2\n",
    "from PIL import Image\n",
    "\n",
    "plt.style.use(\"seaborn\")\n",
    "plt.rcParams['figure.figsize'] = (13, 7)"
   ]
  },
  {
   "cell_type": "markdown",
   "id": "d3b1f3d8",
   "metadata": {
    "papermill": {
     "duration": 0.017626,
     "end_time": "2022-12-12T14:40:01.391898",
     "exception": false,
     "start_time": "2022-12-12T14:40:01.374272",
     "status": "completed"
    },
    "tags": []
   },
   "source": [
    "# 2. Load Data"
   ]
  },
  {
   "cell_type": "code",
   "execution_count": 3,
   "id": "1532b12b",
   "metadata": {
    "execution": {
     "iopub.execute_input": "2022-12-12T14:40:01.429865Z",
     "iopub.status.busy": "2022-12-12T14:40:01.429431Z",
     "iopub.status.idle": "2022-12-12T14:40:02.709181Z",
     "shell.execute_reply": "2022-12-12T14:40:02.707941Z"
    },
    "papermill": {
     "duration": 1.301858,
     "end_time": "2022-12-12T14:40:02.712080",
     "exception": false,
     "start_time": "2022-12-12T14:40:01.410222",
     "status": "completed"
    },
    "tags": []
   },
   "outputs": [],
   "source": [
    "id_df = pd.read_csv(\"/kaggle/input/tiki-books-dataset/book_id.csv\")\n",
    "data_df = pd.read_csv(\"/kaggle/input/tiki-books-dataset/book_data.csv\")\n",
    "cmt_df = pd.read_csv(\"/kaggle/input/tiki-books-dataset/comments.csv\")"
   ]
  },
  {
   "cell_type": "markdown",
   "id": "c55f2d64",
   "metadata": {
    "papermill": {
     "duration": 0.017762,
     "end_time": "2022-12-12T14:40:02.748323",
     "exception": false,
     "start_time": "2022-12-12T14:40:02.730561",
     "status": "completed"
    },
    "tags": []
   },
   "source": [
    "Let focus on data_df (main file)."
   ]
  },
  {
   "cell_type": "code",
   "execution_count": 4,
   "id": "4d4f2bad",
   "metadata": {
    "execution": {
     "iopub.execute_input": "2022-12-12T14:40:02.791122Z",
     "iopub.status.busy": "2022-12-12T14:40:02.790658Z",
     "iopub.status.idle": "2022-12-12T14:40:02.818540Z",
     "shell.execute_reply": "2022-12-12T14:40:02.817442Z"
    },
    "papermill": {
     "duration": 0.054364,
     "end_time": "2022-12-12T14:40:02.821083",
     "exception": false,
     "start_time": "2022-12-12T14:40:02.766719",
     "status": "completed"
    },
    "tags": []
   },
   "outputs": [
    {
     "data": {
      "text/html": [
       "<div>\n",
       "<style scoped>\n",
       "    .dataframe tbody tr th:only-of-type {\n",
       "        vertical-align: middle;\n",
       "    }\n",
       "\n",
       "    .dataframe tbody tr th {\n",
       "        vertical-align: top;\n",
       "    }\n",
       "\n",
       "    .dataframe thead th {\n",
       "        text-align: right;\n",
       "    }\n",
       "</style>\n",
       "<table border=\"1\" class=\"dataframe\">\n",
       "  <thead>\n",
       "    <tr style=\"text-align: right;\">\n",
       "      <th></th>\n",
       "      <th>product_id</th>\n",
       "      <th>title</th>\n",
       "      <th>authors</th>\n",
       "      <th>original_price</th>\n",
       "      <th>current_price</th>\n",
       "      <th>quantity</th>\n",
       "      <th>category</th>\n",
       "      <th>n_review</th>\n",
       "      <th>avg_rating</th>\n",
       "      <th>pages</th>\n",
       "      <th>manufacturer</th>\n",
       "      <th>cover_link</th>\n",
       "    </tr>\n",
       "  </thead>\n",
       "  <tbody>\n",
       "    <tr>\n",
       "      <th>0</th>\n",
       "      <td>74021317</td>\n",
       "      <td>Cây Cam Ngọt Của Tôi</td>\n",
       "      <td>José Mauro de Vasconcelos</td>\n",
       "      <td>108000</td>\n",
       "      <td>64800</td>\n",
       "      <td>53075.0</td>\n",
       "      <td>Tiểu Thuyết</td>\n",
       "      <td>11481</td>\n",
       "      <td>5.0</td>\n",
       "      <td>244</td>\n",
       "      <td>Nhà Xuất Bản Hội Nhà Văn</td>\n",
       "      <td>https://salt.tikicdn.com/ts/product/5e/18/24/2...</td>\n",
       "    </tr>\n",
       "    <tr>\n",
       "      <th>1</th>\n",
       "      <td>74021317</td>\n",
       "      <td>Cây Cam Ngọt Của Tôi</td>\n",
       "      <td>José Mauro de Vasconcelos</td>\n",
       "      <td>108000</td>\n",
       "      <td>64800</td>\n",
       "      <td>53075.0</td>\n",
       "      <td>Tiểu Thuyết</td>\n",
       "      <td>11481</td>\n",
       "      <td>5.0</td>\n",
       "      <td>244</td>\n",
       "      <td>Nhà Xuất Bản Hội Nhà Văn</td>\n",
       "      <td>https://salt.tikicdn.com/ts/product/5e/18/24/2...</td>\n",
       "    </tr>\n",
       "    <tr>\n",
       "      <th>2</th>\n",
       "      <td>184466860</td>\n",
       "      <td>Hành Tinh Của Một Kẻ Nghĩ Nhiều</td>\n",
       "      <td>Nguyễn Đoàn Minh Thư</td>\n",
       "      <td>86000</td>\n",
       "      <td>59900</td>\n",
       "      <td>7929.0</td>\n",
       "      <td>Sách tư duy - Kỹ năng sống</td>\n",
       "      <td>780</td>\n",
       "      <td>4.8</td>\n",
       "      <td>184</td>\n",
       "      <td>Nhà Xuất Bản Thế Giới</td>\n",
       "      <td>https://salt.tikicdn.com/ts/product/d7/99/24/1...</td>\n",
       "    </tr>\n",
       "    <tr>\n",
       "      <th>3</th>\n",
       "      <td>73787185</td>\n",
       "      <td>Những Tù Nhân Của Địa Lý</td>\n",
       "      <td>Tim Marshall</td>\n",
       "      <td>210000</td>\n",
       "      <td>126000</td>\n",
       "      <td>17896.0</td>\n",
       "      <td>Lĩnh vực khác</td>\n",
       "      <td>3623</td>\n",
       "      <td>4.8</td>\n",
       "      <td>430</td>\n",
       "      <td>Nhà Xuất Bản Hội Nhà Văn</td>\n",
       "      <td>https://salt.tikicdn.com/ts/product/8d/96/9e/c...</td>\n",
       "    </tr>\n",
       "    <tr>\n",
       "      <th>4</th>\n",
       "      <td>52789367</td>\n",
       "      <td>Nhà Giả Kim (Tái Bản 2020)</td>\n",
       "      <td>Paulo Coelho</td>\n",
       "      <td>79000</td>\n",
       "      <td>47400</td>\n",
       "      <td>24668.0</td>\n",
       "      <td>Tác phẩm kinh điển</td>\n",
       "      <td>5131</td>\n",
       "      <td>5.0</td>\n",
       "      <td>228</td>\n",
       "      <td>Nhà Xuất Bản Hà Nội</td>\n",
       "      <td>https://salt.tikicdn.com/ts/product/45/3b/fc/a...</td>\n",
       "    </tr>\n",
       "  </tbody>\n",
       "</table>\n",
       "</div>"
      ],
      "text/plain": [
       "   product_id                            title                    authors  \\\n",
       "0    74021317             Cây Cam Ngọt Của Tôi  José Mauro de Vasconcelos   \n",
       "1    74021317             Cây Cam Ngọt Của Tôi  José Mauro de Vasconcelos   \n",
       "2   184466860  Hành Tinh Của Một Kẻ Nghĩ Nhiều       Nguyễn Đoàn Minh Thư   \n",
       "3    73787185         Những Tù Nhân Của Địa Lý               Tim Marshall   \n",
       "4    52789367       Nhà Giả Kim (Tái Bản 2020)               Paulo Coelho   \n",
       "\n",
       "   original_price  current_price  quantity                    category  \\\n",
       "0          108000          64800   53075.0                 Tiểu Thuyết   \n",
       "1          108000          64800   53075.0                 Tiểu Thuyết   \n",
       "2           86000          59900    7929.0  Sách tư duy - Kỹ năng sống   \n",
       "3          210000         126000   17896.0               Lĩnh vực khác   \n",
       "4           79000          47400   24668.0          Tác phẩm kinh điển   \n",
       "\n",
       "   n_review  avg_rating pages              manufacturer  \\\n",
       "0     11481         5.0   244  Nhà Xuất Bản Hội Nhà Văn   \n",
       "1     11481         5.0   244  Nhà Xuất Bản Hội Nhà Văn   \n",
       "2       780         4.8   184     Nhà Xuất Bản Thế Giới   \n",
       "3      3623         4.8   430  Nhà Xuất Bản Hội Nhà Văn   \n",
       "4      5131         5.0   228       Nhà Xuất Bản Hà Nội   \n",
       "\n",
       "                                          cover_link  \n",
       "0  https://salt.tikicdn.com/ts/product/5e/18/24/2...  \n",
       "1  https://salt.tikicdn.com/ts/product/5e/18/24/2...  \n",
       "2  https://salt.tikicdn.com/ts/product/d7/99/24/1...  \n",
       "3  https://salt.tikicdn.com/ts/product/8d/96/9e/c...  \n",
       "4  https://salt.tikicdn.com/ts/product/45/3b/fc/a...  "
      ]
     },
     "execution_count": 4,
     "metadata": {},
     "output_type": "execute_result"
    }
   ],
   "source": [
    "data_df.head()"
   ]
  },
  {
   "cell_type": "code",
   "execution_count": 5,
   "id": "f65e9193",
   "metadata": {
    "execution": {
     "iopub.execute_input": "2022-12-12T14:40:02.859390Z",
     "iopub.status.busy": "2022-12-12T14:40:02.858968Z",
     "iopub.status.idle": "2022-12-12T14:40:02.884434Z",
     "shell.execute_reply": "2022-12-12T14:40:02.882885Z"
    },
    "papermill": {
     "duration": 0.048209,
     "end_time": "2022-12-12T14:40:02.887544",
     "exception": false,
     "start_time": "2022-12-12T14:40:02.839335",
     "status": "completed"
    },
    "tags": []
   },
   "outputs": [
    {
     "name": "stdout",
     "output_type": "stream",
     "text": [
      "<class 'pandas.core.frame.DataFrame'>\n",
      "RangeIndex: 1796 entries, 0 to 1795\n",
      "Data columns (total 12 columns):\n",
      " #   Column          Non-Null Count  Dtype  \n",
      "---  ------          --------------  -----  \n",
      " 0   product_id      1796 non-null   int64  \n",
      " 1   title           1796 non-null   object \n",
      " 2   authors         1653 non-null   object \n",
      " 3   original_price  1796 non-null   int64  \n",
      " 4   current_price   1796 non-null   int64  \n",
      " 5   quantity        1751 non-null   float64\n",
      " 6   category        1796 non-null   object \n",
      " 7   n_review        1796 non-null   int64  \n",
      " 8   avg_rating      1796 non-null   float64\n",
      " 9   pages           1546 non-null   object \n",
      " 10  manufacturer    1523 non-null   object \n",
      " 11  cover_link      1796 non-null   object \n",
      "dtypes: float64(2), int64(4), object(6)\n",
      "memory usage: 168.5+ KB\n"
     ]
    }
   ],
   "source": [
    "data_df.info()"
   ]
  },
  {
   "cell_type": "code",
   "execution_count": 6,
   "id": "8dfa91b5",
   "metadata": {
    "execution": {
     "iopub.execute_input": "2022-12-12T14:40:02.926830Z",
     "iopub.status.busy": "2022-12-12T14:40:02.925493Z",
     "iopub.status.idle": "2022-12-12T14:40:02.938246Z",
     "shell.execute_reply": "2022-12-12T14:40:02.936687Z"
    },
    "papermill": {
     "duration": 0.034609,
     "end_time": "2022-12-12T14:40:02.940826",
     "exception": false,
     "start_time": "2022-12-12T14:40:02.906217",
     "status": "completed"
    },
    "tags": []
   },
   "outputs": [
    {
     "name": "stdout",
     "output_type": "stream",
     "text": [
      "<class 'pandas.core.frame.DataFrame'>\n",
      "RangeIndex: 2024 entries, 0 to 2023\n",
      "Data columns (total 1 columns):\n",
      " #   Column  Non-Null Count  Dtype\n",
      "---  ------  --------------  -----\n",
      " 0   id      2024 non-null   int64\n",
      "dtypes: int64(1)\n",
      "memory usage: 15.9 KB\n"
     ]
    }
   ],
   "source": [
    "id_df.info()"
   ]
  },
  {
   "cell_type": "markdown",
   "id": "cc495100",
   "metadata": {
    "papermill": {
     "duration": 0.018692,
     "end_time": "2022-12-12T14:40:02.978556",
     "exception": false,
     "start_time": "2022-12-12T14:40:02.959864",
     "status": "completed"
    },
    "tags": []
   },
   "source": [
    "We have 1796 books with duplicated. But in the id_df, we have 2024 ids. The reason for this issue is we crawled some thing not a book. Anaway, that isn't a big problem."
   ]
  },
  {
   "cell_type": "markdown",
   "id": "416d16d4",
   "metadata": {
    "papermill": {
     "duration": 0.018577,
     "end_time": "2022-12-12T14:40:03.017023",
     "exception": false,
     "start_time": "2022-12-12T14:40:02.998446",
     "status": "completed"
    },
    "tags": []
   },
   "source": [
    "# 3. Data Preparation"
   ]
  },
  {
   "cell_type": "markdown",
   "id": "05e7969f",
   "metadata": {
    "papermill": {
     "duration": 0.018564,
     "end_time": "2022-12-12T14:40:03.056063",
     "exception": false,
     "start_time": "2022-12-12T14:40:03.037499",
     "status": "completed"
    },
    "tags": []
   },
   "source": [
    "## 3.1 Handle Value and Missing Data"
   ]
  },
  {
   "cell_type": "code",
   "execution_count": 7,
   "id": "3545c100",
   "metadata": {
    "execution": {
     "iopub.execute_input": "2022-12-12T14:40:03.097097Z",
     "iopub.status.busy": "2022-12-12T14:40:03.096643Z",
     "iopub.status.idle": "2022-12-12T14:40:03.107229Z",
     "shell.execute_reply": "2022-12-12T14:40:03.106258Z"
    },
    "papermill": {
     "duration": 0.032486,
     "end_time": "2022-12-12T14:40:03.109333",
     "exception": false,
     "start_time": "2022-12-12T14:40:03.076847",
     "status": "completed"
    },
    "tags": []
   },
   "outputs": [
    {
     "data": {
      "text/plain": [
       "product_id          0\n",
       "title               0\n",
       "authors           143\n",
       "original_price      0\n",
       "current_price       0\n",
       "quantity           45\n",
       "category            0\n",
       "n_review            0\n",
       "avg_rating          0\n",
       "pages             250\n",
       "manufacturer      273\n",
       "cover_link          0\n",
       "dtype: int64"
      ]
     },
     "execution_count": 7,
     "metadata": {},
     "output_type": "execute_result"
    }
   ],
   "source": [
    "data_df.isnull().sum()"
   ]
  },
  {
   "cell_type": "markdown",
   "id": "b6acf856",
   "metadata": {
    "papermill": {
     "duration": 0.018024,
     "end_time": "2022-12-12T14:40:03.145858",
     "exception": false,
     "start_time": "2022-12-12T14:40:03.127834",
     "status": "completed"
    },
    "tags": []
   },
   "source": [
    "### Title\n",
    "Remove duplicated titles"
   ]
  },
  {
   "cell_type": "code",
   "execution_count": 8,
   "id": "61eef0fa",
   "metadata": {
    "execution": {
     "iopub.execute_input": "2022-12-12T14:40:03.184563Z",
     "iopub.status.busy": "2022-12-12T14:40:03.184129Z",
     "iopub.status.idle": "2022-12-12T14:40:03.192975Z",
     "shell.execute_reply": "2022-12-12T14:40:03.192082Z"
    },
    "papermill": {
     "duration": 0.031225,
     "end_time": "2022-12-12T14:40:03.195490",
     "exception": false,
     "start_time": "2022-12-12T14:40:03.164265",
     "status": "completed"
    },
    "tags": []
   },
   "outputs": [],
   "source": [
    "data_df = data_df.drop_duplicates(subset=['title'])"
   ]
  },
  {
   "cell_type": "code",
   "execution_count": 9,
   "id": "ae6d60f7",
   "metadata": {
    "execution": {
     "iopub.execute_input": "2022-12-12T14:40:03.234651Z",
     "iopub.status.busy": "2022-12-12T14:40:03.233667Z",
     "iopub.status.idle": "2022-12-12T14:40:03.246305Z",
     "shell.execute_reply": "2022-12-12T14:40:03.245135Z"
    },
    "papermill": {
     "duration": 0.034913,
     "end_time": "2022-12-12T14:40:03.248809",
     "exception": false,
     "start_time": "2022-12-12T14:40:03.213896",
     "status": "completed"
    },
    "tags": []
   },
   "outputs": [
    {
     "data": {
      "text/plain": [
       "Nguyễn Nhật Ánh    24\n",
       "Higashino Keigo    20\n",
       ".                  18\n",
       "Thích Nhất Hạnh    16\n",
       "Haruki Murakami    15\n",
       "                   ..\n",
       "Urako Kanamori      1\n",
       "Cổ Viên             1\n",
       "Robert Winston      1\n",
       "Yongchul Kwon       1\n",
       "John C. Maxwell     1\n",
       "Name: authors, Length: 1083, dtype: int64"
      ]
     },
     "execution_count": 9,
     "metadata": {},
     "output_type": "execute_result"
    }
   ],
   "source": [
    "data_df.authors.value_counts()"
   ]
  },
  {
   "cell_type": "markdown",
   "id": "1a061e9c",
   "metadata": {
    "papermill": {
     "duration": 0.018432,
     "end_time": "2022-12-12T14:40:03.286304",
     "exception": false,
     "start_time": "2022-12-12T14:40:03.267872",
     "status": "completed"
    },
    "tags": []
   },
   "source": [
    "As we can see, there are 18 \".\" authors, that's so weird hahaa. Let throw it away!"
   ]
  },
  {
   "cell_type": "code",
   "execution_count": 10,
   "id": "2daecfe7",
   "metadata": {
    "execution": {
     "iopub.execute_input": "2022-12-12T14:40:03.325572Z",
     "iopub.status.busy": "2022-12-12T14:40:03.325134Z",
     "iopub.status.idle": "2022-12-12T14:40:03.332904Z",
     "shell.execute_reply": "2022-12-12T14:40:03.331617Z"
    },
    "papermill": {
     "duration": 0.030467,
     "end_time": "2022-12-12T14:40:03.335624",
     "exception": false,
     "start_time": "2022-12-12T14:40:03.305157",
     "status": "completed"
    },
    "tags": []
   },
   "outputs": [],
   "source": [
    "data_df.loc[data_df.authors == '.' , 'authors'] = \"Unknown\""
   ]
  },
  {
   "cell_type": "markdown",
   "id": "d89ab6f8",
   "metadata": {
    "papermill": {
     "duration": 0.018313,
     "end_time": "2022-12-12T14:40:03.372547",
     "exception": false,
     "start_time": "2022-12-12T14:40:03.354234",
     "status": "completed"
    },
    "tags": []
   },
   "source": [
    "### Author"
   ]
  },
  {
   "cell_type": "code",
   "execution_count": 11,
   "id": "f5f62d47",
   "metadata": {
    "execution": {
     "iopub.execute_input": "2022-12-12T14:40:03.411912Z",
     "iopub.status.busy": "2022-12-12T14:40:03.411494Z",
     "iopub.status.idle": "2022-12-12T14:40:03.421286Z",
     "shell.execute_reply": "2022-12-12T14:40:03.420203Z"
    },
    "papermill": {
     "duration": 0.032441,
     "end_time": "2022-12-12T14:40:03.423530",
     "exception": false,
     "start_time": "2022-12-12T14:40:03.391089",
     "status": "completed"
    },
    "tags": []
   },
   "outputs": [
    {
     "data": {
      "text/plain": [
       "Nguyễn Nhật Ánh    24\n",
       "Higashino Keigo    20\n",
       "Unknown            18\n",
       "Thích Nhất Hạnh    16\n",
       "Haruki Murakami    15\n",
       "                   ..\n",
       "Urako Kanamori      1\n",
       "Cổ Viên             1\n",
       "Robert Winston      1\n",
       "Yongchul Kwon       1\n",
       "John C. Maxwell     1\n",
       "Name: authors, Length: 1083, dtype: int64"
      ]
     },
     "execution_count": 11,
     "metadata": {},
     "output_type": "execute_result"
    }
   ],
   "source": [
    "data_df.authors.value_counts()"
   ]
  },
  {
   "cell_type": "code",
   "execution_count": 12,
   "id": "5a5181c8",
   "metadata": {
    "execution": {
     "iopub.execute_input": "2022-12-12T14:40:03.462906Z",
     "iopub.status.busy": "2022-12-12T14:40:03.462470Z",
     "iopub.status.idle": "2022-12-12T14:40:03.468756Z",
     "shell.execute_reply": "2022-12-12T14:40:03.467643Z"
    },
    "papermill": {
     "duration": 0.028941,
     "end_time": "2022-12-12T14:40:03.471274",
     "exception": false,
     "start_time": "2022-12-12T14:40:03.442333",
     "status": "completed"
    },
    "tags": []
   },
   "outputs": [],
   "source": [
    "data_df.authors = data_df.authors.fillna(\"Unknown\")"
   ]
  },
  {
   "cell_type": "markdown",
   "id": "c6b30862",
   "metadata": {
    "papermill": {
     "duration": 0.018404,
     "end_time": "2022-12-12T14:40:03.508525",
     "exception": false,
     "start_time": "2022-12-12T14:40:03.490121",
     "status": "completed"
    },
    "tags": []
   },
   "source": [
    "### Quantity"
   ]
  },
  {
   "cell_type": "code",
   "execution_count": 13,
   "id": "52e592ed",
   "metadata": {
    "execution": {
     "iopub.execute_input": "2022-12-12T14:40:03.547951Z",
     "iopub.status.busy": "2022-12-12T14:40:03.547519Z",
     "iopub.status.idle": "2022-12-12T14:40:03.552979Z",
     "shell.execute_reply": "2022-12-12T14:40:03.552049Z"
    },
    "papermill": {
     "duration": 0.027912,
     "end_time": "2022-12-12T14:40:03.555106",
     "exception": false,
     "start_time": "2022-12-12T14:40:03.527194",
     "status": "completed"
    },
    "tags": []
   },
   "outputs": [],
   "source": [
    "data_df.quantity = data_df.quantity.fillna(np.mean(data_df.quantity))"
   ]
  },
  {
   "cell_type": "markdown",
   "id": "88dc7514",
   "metadata": {
    "papermill": {
     "duration": 0.018156,
     "end_time": "2022-12-12T14:40:03.592015",
     "exception": false,
     "start_time": "2022-12-12T14:40:03.573859",
     "status": "completed"
    },
    "tags": []
   },
   "source": [
    "### Category"
   ]
  },
  {
   "cell_type": "code",
   "execution_count": 14,
   "id": "d8d3c06b",
   "metadata": {
    "execution": {
     "iopub.execute_input": "2022-12-12T14:40:03.632251Z",
     "iopub.status.busy": "2022-12-12T14:40:03.631067Z",
     "iopub.status.idle": "2022-12-12T14:40:03.641879Z",
     "shell.execute_reply": "2022-12-12T14:40:03.640781Z"
    },
    "papermill": {
     "duration": 0.034008,
     "end_time": "2022-12-12T14:40:03.644523",
     "exception": false,
     "start_time": "2022-12-12T14:40:03.610515",
     "status": "completed"
    },
    "tags": []
   },
   "outputs": [
    {
     "data": {
      "text/plain": [
       "Sách tư duy - Kỹ năng sống                 292\n",
       "Tiểu Thuyết                                133\n",
       "Truyện ngắn - Tản văn - Tạp Văn            109\n",
       "Sách nghệ thuật sống đẹp                    58\n",
       "Sách kỹ năng làm việc                       55\n",
       "                                          ... \n",
       "Shaman King - Tập 19                         1\n",
       "Blue Period - Tập 07                         1\n",
       "Komi - Nữ Thần Sợ Giao Tiếp - Tập 14         1\n",
       "Bên Rặng Tuyết Sơn (Tái Bản)                 1\n",
       "Kaguya-Sama: Cuộc Chiến Tỏ Tình - Tập 3      1\n",
       "Name: category, Length: 354, dtype: int64"
      ]
     },
     "execution_count": 14,
     "metadata": {},
     "output_type": "execute_result"
    }
   ],
   "source": [
    "data_df.category.value_counts()"
   ]
  },
  {
   "cell_type": "markdown",
   "id": "d2ba766a",
   "metadata": {
    "papermill": {
     "duration": 0.019415,
     "end_time": "2022-12-12T14:40:03.684248",
     "exception": false,
     "start_time": "2022-12-12T14:40:03.664833",
     "status": "completed"
    },
    "tags": []
   },
   "source": [
    "We have lot of wrong values. Just considering top 30 categories."
   ]
  },
  {
   "cell_type": "code",
   "execution_count": 15,
   "id": "ba8a68a2",
   "metadata": {
    "execution": {
     "iopub.execute_input": "2022-12-12T14:40:03.723155Z",
     "iopub.status.busy": "2022-12-12T14:40:03.722709Z",
     "iopub.status.idle": "2022-12-12T14:40:03.733641Z",
     "shell.execute_reply": "2022-12-12T14:40:03.732527Z"
    },
    "papermill": {
     "duration": 0.033204,
     "end_time": "2022-12-12T14:40:03.735981",
     "exception": false,
     "start_time": "2022-12-12T14:40:03.702777",
     "status": "completed"
    },
    "tags": []
   },
   "outputs": [
    {
     "data": {
      "text/plain": [
       "['Tiểu Thuyết',\n",
       " 'Truyện ngắn - Tản văn - Tạp Văn',\n",
       " 'Sách nghệ thuật sống đẹp',\n",
       " 'Sách kỹ năng làm việc',\n",
       " 'Bài học kinh doanh',\n",
       " 'Truyện trinh thám',\n",
       " 'Sách Học Tiếng Anh',\n",
       " 'Sách Marketing - Bán hàng ',\n",
       " 'Sách tài chính, tiền tệ',\n",
       " 'Tác phẩm kinh điển',\n",
       " 'Truyện Giả tưởng - Huyền Bí - Phiêu Lưu',\n",
       " 'Kiến thức - Bách khoa',\n",
       " 'Sách Làm Cha Mẹ',\n",
       " 'Lĩnh vực khác',\n",
       " 'Truyện dài',\n",
       " 'Kiến Thức Bách Khoa',\n",
       " 'Văn học thiếu nhi',\n",
       " 'Light novel',\n",
       " 'Truyện kể cho bé',\n",
       " 'Sách quản trị, lãnh đạo',\n",
       " 'Truyện đam mỹ',\n",
       " 'Tiểu sử - Hồi ký',\n",
       " 'Lịch Sử Thế Giới',\n",
       " 'Sách Chiêm Tinh - Horoscope',\n",
       " 'Sách Học Tiếng Hoa',\n",
       " 'Truyện tranh Ehon',\n",
       " 'Sách kinh tế học',\n",
       " 'Sách giáo dục',\n",
       " 'Tô màu - Luyện chữ  ']"
      ]
     },
     "execution_count": 15,
     "metadata": {},
     "output_type": "execute_result"
    }
   ],
   "source": [
    "keeping_values = list(pd.DataFrame(data_df.category.value_counts()[1:30]).T.columns)\n",
    "keeping_values"
   ]
  },
  {
   "cell_type": "code",
   "execution_count": 16,
   "id": "afe09429",
   "metadata": {
    "execution": {
     "iopub.execute_input": "2022-12-12T14:40:03.782460Z",
     "iopub.status.busy": "2022-12-12T14:40:03.781886Z",
     "iopub.status.idle": "2022-12-12T14:40:03.793677Z",
     "shell.execute_reply": "2022-12-12T14:40:03.792449Z"
    },
    "papermill": {
     "duration": 0.042132,
     "end_time": "2022-12-12T14:40:03.797316",
     "exception": false,
     "start_time": "2022-12-12T14:40:03.755184",
     "status": "completed"
    },
    "tags": []
   },
   "outputs": [],
   "source": [
    "def handle_category(category):\n",
    "    if category not in keeping_values:\n",
    "        return \"Others\"\n",
    "    return category\n",
    "\n",
    "data_df.category = data_df.category.apply(lambda category: handle_category(category))"
   ]
  },
  {
   "cell_type": "markdown",
   "id": "456320b0",
   "metadata": {
    "papermill": {
     "duration": 0.018584,
     "end_time": "2022-12-12T14:40:03.837782",
     "exception": false,
     "start_time": "2022-12-12T14:40:03.819198",
     "status": "completed"
    },
    "tags": []
   },
   "source": [
    "### Pages"
   ]
  },
  {
   "cell_type": "code",
   "execution_count": 17,
   "id": "ade7a382",
   "metadata": {
    "execution": {
     "iopub.execute_input": "2022-12-12T14:40:03.881496Z",
     "iopub.status.busy": "2022-12-12T14:40:03.880473Z",
     "iopub.status.idle": "2022-12-12T14:40:03.890033Z",
     "shell.execute_reply": "2022-12-12T14:40:03.888809Z"
    },
    "papermill": {
     "duration": 0.036011,
     "end_time": "2022-12-12T14:40:03.892674",
     "exception": false,
     "start_time": "2022-12-12T14:40:03.856663",
     "status": "completed"
    },
    "tags": []
   },
   "outputs": [],
   "source": [
    "def handle_pages(lst_pages):\n",
    "    lst_int = []\n",
    "    for page in lst_pages:\n",
    "        try:\n",
    "            lst_int.append(int(page))\n",
    "        except:\n",
    "            continue\n",
    "            \n",
    "    return np.mean(lst_int)\n",
    "    \n",
    "mean_pages = handle_pages(list(data_df.pages))"
   ]
  },
  {
   "cell_type": "code",
   "execution_count": 18,
   "id": "f6c99fe7",
   "metadata": {
    "execution": {
     "iopub.execute_input": "2022-12-12T14:40:03.934525Z",
     "iopub.status.busy": "2022-12-12T14:40:03.933555Z",
     "iopub.status.idle": "2022-12-12T14:40:03.940658Z",
     "shell.execute_reply": "2022-12-12T14:40:03.939510Z"
    },
    "papermill": {
     "duration": 0.031232,
     "end_time": "2022-12-12T14:40:03.943273",
     "exception": false,
     "start_time": "2022-12-12T14:40:03.912041",
     "status": "completed"
    },
    "tags": []
   },
   "outputs": [],
   "source": [
    "data_df.pages = data_df.pages.fillna(str(mean_pages))"
   ]
  },
  {
   "cell_type": "code",
   "execution_count": 19,
   "id": "a1257913",
   "metadata": {
    "execution": {
     "iopub.execute_input": "2022-12-12T14:40:03.987591Z",
     "iopub.status.busy": "2022-12-12T14:40:03.986839Z",
     "iopub.status.idle": "2022-12-12T14:40:04.005884Z",
     "shell.execute_reply": "2022-12-12T14:40:04.004991Z"
    },
    "papermill": {
     "duration": 0.046398,
     "end_time": "2022-12-12T14:40:04.008599",
     "exception": false,
     "start_time": "2022-12-12T14:40:03.962201",
     "status": "completed"
    },
    "tags": []
   },
   "outputs": [
    {
     "data": {
      "text/html": [
       "<div>\n",
       "<style scoped>\n",
       "    .dataframe tbody tr th:only-of-type {\n",
       "        vertical-align: middle;\n",
       "    }\n",
       "\n",
       "    .dataframe tbody tr th {\n",
       "        vertical-align: top;\n",
       "    }\n",
       "\n",
       "    .dataframe thead th {\n",
       "        text-align: right;\n",
       "    }\n",
       "</style>\n",
       "<table border=\"1\" class=\"dataframe\">\n",
       "  <thead>\n",
       "    <tr style=\"text-align: right;\">\n",
       "      <th></th>\n",
       "      <th>product_id</th>\n",
       "      <th>title</th>\n",
       "      <th>authors</th>\n",
       "      <th>original_price</th>\n",
       "      <th>current_price</th>\n",
       "      <th>quantity</th>\n",
       "      <th>category</th>\n",
       "      <th>n_review</th>\n",
       "      <th>avg_rating</th>\n",
       "      <th>pages</th>\n",
       "      <th>manufacturer</th>\n",
       "      <th>cover_link</th>\n",
       "    </tr>\n",
       "  </thead>\n",
       "  <tbody>\n",
       "    <tr>\n",
       "      <th>1266</th>\n",
       "      <td>197639028</td>\n",
       "      <td>Động Từ Bất Quy Tắc Và Ngữ Pháp Tiếng Anh Căn Bản</td>\n",
       "      <td>Mai Lan Hương</td>\n",
       "      <td>18000</td>\n",
       "      <td>12000</td>\n",
       "      <td>136.0</td>\n",
       "      <td>Sách Học Tiếng Anh</td>\n",
       "      <td>2</td>\n",
       "      <td>5.0</td>\n",
       "      <td>Cuốn</td>\n",
       "      <td>Nhà Xuất Bản Đà Nẵng</td>\n",
       "      <td>https://salt.tikicdn.com/ts/product/28/8e/9e/0...</td>\n",
       "    </tr>\n",
       "  </tbody>\n",
       "</table>\n",
       "</div>"
      ],
      "text/plain": [
       "      product_id                                              title  \\\n",
       "1266   197639028  Động Từ Bất Quy Tắc Và Ngữ Pháp Tiếng Anh Căn Bản   \n",
       "\n",
       "            authors  original_price  current_price  quantity  \\\n",
       "1266  Mai Lan Hương           18000          12000     136.0   \n",
       "\n",
       "                category  n_review  avg_rating pages          manufacturer  \\\n",
       "1266  Sách Học Tiếng Anh         2         5.0  Cuốn  Nhà Xuất Bản Đà Nẵng   \n",
       "\n",
       "                                             cover_link  \n",
       "1266  https://salt.tikicdn.com/ts/product/28/8e/9e/0...  "
      ]
     },
     "execution_count": 19,
     "metadata": {},
     "output_type": "execute_result"
    }
   ],
   "source": [
    "# There is one product having the value of pages is \"Cuốn\".\n",
    "data_df.query('pages == \"Cuốn\"')"
   ]
  },
  {
   "cell_type": "markdown",
   "id": "27f45df2",
   "metadata": {
    "papermill": {
     "duration": 0.02031,
     "end_time": "2022-12-12T14:40:04.056570",
     "exception": false,
     "start_time": "2022-12-12T14:40:04.036260",
     "status": "completed"
    },
    "tags": []
   },
   "source": [
    "Let remove it!"
   ]
  },
  {
   "cell_type": "code",
   "execution_count": 20,
   "id": "bee0b4da",
   "metadata": {
    "execution": {
     "iopub.execute_input": "2022-12-12T14:40:04.097977Z",
     "iopub.status.busy": "2022-12-12T14:40:04.096992Z",
     "iopub.status.idle": "2022-12-12T14:40:04.106936Z",
     "shell.execute_reply": "2022-12-12T14:40:04.105788Z"
    },
    "papermill": {
     "duration": 0.033578,
     "end_time": "2022-12-12T14:40:04.109594",
     "exception": false,
     "start_time": "2022-12-12T14:40:04.076016",
     "status": "completed"
    },
    "tags": []
   },
   "outputs": [],
   "source": [
    "data_df = data_df.query('pages != \"Cuốn\"')"
   ]
  },
  {
   "cell_type": "markdown",
   "id": "1c093df5",
   "metadata": {
    "papermill": {
     "duration": 0.0228,
     "end_time": "2022-12-12T14:40:04.153653",
     "exception": false,
     "start_time": "2022-12-12T14:40:04.130853",
     "status": "completed"
    },
    "tags": []
   },
   "source": [
    "Let change datatype."
   ]
  },
  {
   "cell_type": "code",
   "execution_count": 21,
   "id": "a49316bb",
   "metadata": {
    "execution": {
     "iopub.execute_input": "2022-12-12T14:40:04.197856Z",
     "iopub.status.busy": "2022-12-12T14:40:04.197048Z",
     "iopub.status.idle": "2022-12-12T14:40:04.206214Z",
     "shell.execute_reply": "2022-12-12T14:40:04.205237Z"
    },
    "papermill": {
     "duration": 0.034677,
     "end_time": "2022-12-12T14:40:04.209472",
     "exception": false,
     "start_time": "2022-12-12T14:40:04.174795",
     "status": "completed"
    },
    "tags": []
   },
   "outputs": [],
   "source": [
    "data_df.pages = data_df.pages.apply(lambda page: round(float(page)))\n",
    "data_df.pages = data_df.pages.astype(\"int64\")"
   ]
  },
  {
   "cell_type": "code",
   "execution_count": 22,
   "id": "85dc41c4",
   "metadata": {
    "execution": {
     "iopub.execute_input": "2022-12-12T14:40:04.254469Z",
     "iopub.status.busy": "2022-12-12T14:40:04.254048Z",
     "iopub.status.idle": "2022-12-12T14:40:04.268701Z",
     "shell.execute_reply": "2022-12-12T14:40:04.267415Z"
    },
    "papermill": {
     "duration": 0.038351,
     "end_time": "2022-12-12T14:40:04.271510",
     "exception": false,
     "start_time": "2022-12-12T14:40:04.233159",
     "status": "completed"
    },
    "tags": []
   },
   "outputs": [
    {
     "data": {
      "text/plain": [
       "count      1768.000000\n",
       "mean        455.603507\n",
       "std        4561.569635\n",
       "min          10.000000\n",
       "25%         220.000000\n",
       "50%         332.000000\n",
       "75%         456.000000\n",
       "max      192000.000000\n",
       "Name: pages, dtype: float64"
      ]
     },
     "execution_count": 22,
     "metadata": {},
     "output_type": "execute_result"
    }
   ],
   "source": [
    "data_df.pages.describe()"
   ]
  },
  {
   "cell_type": "code",
   "execution_count": 23,
   "id": "b5ef77ab",
   "metadata": {
    "execution": {
     "iopub.execute_input": "2022-12-12T14:40:04.312600Z",
     "iopub.status.busy": "2022-12-12T14:40:04.311831Z",
     "iopub.status.idle": "2022-12-12T14:40:04.329038Z",
     "shell.execute_reply": "2022-12-12T14:40:04.327823Z"
    },
    "papermill": {
     "duration": 0.040586,
     "end_time": "2022-12-12T14:40:04.331513",
     "exception": false,
     "start_time": "2022-12-12T14:40:04.290927",
     "status": "completed"
    },
    "tags": []
   },
   "outputs": [
    {
     "data": {
      "text/html": [
       "<div>\n",
       "<style scoped>\n",
       "    .dataframe tbody tr th:only-of-type {\n",
       "        vertical-align: middle;\n",
       "    }\n",
       "\n",
       "    .dataframe tbody tr th {\n",
       "        vertical-align: top;\n",
       "    }\n",
       "\n",
       "    .dataframe thead th {\n",
       "        text-align: right;\n",
       "    }\n",
       "</style>\n",
       "<table border=\"1\" class=\"dataframe\">\n",
       "  <thead>\n",
       "    <tr style=\"text-align: right;\">\n",
       "      <th></th>\n",
       "      <th>product_id</th>\n",
       "      <th>title</th>\n",
       "      <th>authors</th>\n",
       "      <th>original_price</th>\n",
       "      <th>current_price</th>\n",
       "      <th>quantity</th>\n",
       "      <th>category</th>\n",
       "      <th>n_review</th>\n",
       "      <th>avg_rating</th>\n",
       "      <th>pages</th>\n",
       "      <th>manufacturer</th>\n",
       "      <th>cover_link</th>\n",
       "    </tr>\n",
       "  </thead>\n",
       "  <tbody>\n",
       "    <tr>\n",
       "      <th>650</th>\n",
       "      <td>201687274</td>\n",
       "      <td>Có Một Nổi Buồn Vừa Ngang Qua Đây</td>\n",
       "      <td>Gã</td>\n",
       "      <td>88000</td>\n",
       "      <td>64900</td>\n",
       "      <td>114.0</td>\n",
       "      <td>Truyện ngắn - Tản văn - Tạp Văn</td>\n",
       "      <td>6</td>\n",
       "      <td>5.0</td>\n",
       "      <td>192000</td>\n",
       "      <td>Nhà Xuất Bản Văn Học</td>\n",
       "      <td>https://salt.tikicdn.com/ts/product/08/fd/a5/0...</td>\n",
       "    </tr>\n",
       "  </tbody>\n",
       "</table>\n",
       "</div>"
      ],
      "text/plain": [
       "     product_id                              title authors  original_price  \\\n",
       "650   201687274  Có Một Nổi Buồn Vừa Ngang Qua Đây      Gã           88000   \n",
       "\n",
       "     current_price  quantity                         category  n_review  \\\n",
       "650          64900     114.0  Truyện ngắn - Tản văn - Tạp Văn         6   \n",
       "\n",
       "     avg_rating   pages          manufacturer  \\\n",
       "650         5.0  192000  Nhà Xuất Bản Văn Học   \n",
       "\n",
       "                                            cover_link  \n",
       "650  https://salt.tikicdn.com/ts/product/08/fd/a5/0...  "
      ]
     },
     "execution_count": 23,
     "metadata": {},
     "output_type": "execute_result"
    }
   ],
   "source": [
    "data_df[data_df.pages > 3000]"
   ]
  },
  {
   "cell_type": "markdown",
   "id": "9bd32c72",
   "metadata": {
    "papermill": {
     "duration": 0.019317,
     "end_time": "2022-12-12T14:40:04.370409",
     "exception": false,
     "start_time": "2022-12-12T14:40:04.351092",
     "status": "completed"
    },
    "tags": []
   },
   "source": [
    "Oh, there is one book with 192000 pages."
   ]
  },
  {
   "cell_type": "code",
   "execution_count": 24,
   "id": "cb710366",
   "metadata": {
    "execution": {
     "iopub.execute_input": "2022-12-12T14:40:04.414861Z",
     "iopub.status.busy": "2022-12-12T14:40:04.414163Z",
     "iopub.status.idle": "2022-12-12T14:40:04.424118Z",
     "shell.execute_reply": "2022-12-12T14:40:04.423233Z"
    },
    "papermill": {
     "duration": 0.036356,
     "end_time": "2022-12-12T14:40:04.426604",
     "exception": false,
     "start_time": "2022-12-12T14:40:04.390248",
     "status": "completed"
    },
    "tags": []
   },
   "outputs": [],
   "source": [
    "data_df = data_df.query('pages < 3000')"
   ]
  },
  {
   "cell_type": "markdown",
   "id": "59235f1c",
   "metadata": {
    "papermill": {
     "duration": 0.019503,
     "end_time": "2022-12-12T14:40:04.465630",
     "exception": false,
     "start_time": "2022-12-12T14:40:04.446127",
     "status": "completed"
    },
    "tags": []
   },
   "source": [
    "### Manufacturer"
   ]
  },
  {
   "cell_type": "code",
   "execution_count": 25,
   "id": "8032de12",
   "metadata": {
    "execution": {
     "iopub.execute_input": "2022-12-12T14:40:04.506467Z",
     "iopub.status.busy": "2022-12-12T14:40:04.505812Z",
     "iopub.status.idle": "2022-12-12T14:40:04.515260Z",
     "shell.execute_reply": "2022-12-12T14:40:04.513939Z"
    },
    "papermill": {
     "duration": 0.032523,
     "end_time": "2022-12-12T14:40:04.517597",
     "exception": false,
     "start_time": "2022-12-12T14:40:04.485074",
     "status": "completed"
    },
    "tags": []
   },
   "outputs": [
    {
     "data": {
      "text/plain": [
       "Nhà Xuất Bản Thế Giới                            247\n",
       "NXB Trẻ                                          143\n",
       "Nhà Xuất Bản Hà Nội                              128\n",
       "Nhà Xuất Bản Dân Trí                             126\n",
       "Nhà Xuất Bản Kim Đồng                            113\n",
       "Nhà Xuất Bản Hội Nhà Văn                         111\n",
       "Nhà Xuất Bản Thanh Niên                           97\n",
       "Nhà Xuất Bản Tổng hợp TP.HCM                      91\n",
       "Nhà Xuất Bản Lao Động                             89\n",
       "Nhà Xuất Bản Văn Học                              76\n",
       "Nhà Xuất Bản Hồng Đức                             56\n",
       "Nhà Xuất Bản Công Thương                          46\n",
       "Nhà Xuất Bản Phụ Nữ Việt Nam                      38\n",
       "Nhà Xuất Bản Phụ Nữ                               30\n",
       "Nhà Xuất Bản Đà Nẵng                              16\n",
       "Nhà Xuất Bản Đại Học Quốc Gia Hà Nội              13\n",
       "Nhà Xuất Bản Mỹ Thuật                              8\n",
       "Nhà Xuất Bản Tri Thức                              7\n",
       "Nhà Xuất Bản Lao Động Xã Hội                       7\n",
       "NXB Dân Trí                                        6\n",
       "Nhiều Nhà Xuất Bản                                 6\n",
       "Nhà Xuất Bản Khoa Học Xã Hội                       5\n",
       "Nhà Xuất Bản Tài Chính                             5\n",
       "Nhà Xuất Bản Chính Trị Quốc Gia Sự Thật            4\n",
       "Nhà Xuất Bản Thông Tin Và Truyền Thông             3\n",
       "hong duc                                           3\n",
       "Nhà Xuất Bản Văn Hóa - Văn Nghệ TP.HCM             3\n",
       "Nhà Xuất Bản Kinh Tế TPHCM                         3\n",
       "Nhà Xuất Bản Đồng Nai                              3\n",
       "NXB Đại học Kinh Tế Quốc Dân                       3\n",
       "Nhà Xuất Bản Thông Tấn                             2\n",
       "Nhà Xuất Bản Đại Học Kinh Tế Quốc Dân              2\n",
       "Forbes Việt Nam                                    2\n",
       "Nhà Xuất Bản Khoa học & kỹ thuật                   2\n",
       "Nhà Xuất Bản Tôn Giáo                              2\n",
       "Nhà Xuất Bản Văn Hoá Dân Tộc                       1\n",
       "ĐHQG Hà Nội                                        1\n",
       "Nhà Xuất Bản Hồng Đức - Hội Luật Gia Việt Nam      1\n",
       "Nhà Xuất Bản Compass Publishing                    1\n",
       "Nhà Xuất Bản Thời Đại                              1\n",
       "Nhà Xuất Bản Giáo Dục Việt Nam                     1\n",
       "Name: manufacturer, dtype: int64"
      ]
     },
     "execution_count": 25,
     "metadata": {},
     "output_type": "execute_result"
    }
   ],
   "source": [
    "data_df.manufacturer.value_counts()"
   ]
  },
  {
   "cell_type": "markdown",
   "id": "e0fe5e74",
   "metadata": {
    "papermill": {
     "duration": 0.019231,
     "end_time": "2022-12-12T14:40:04.556432",
     "exception": false,
     "start_time": "2022-12-12T14:40:04.537201",
     "status": "completed"
    },
    "tags": []
   },
   "source": [
    "We can see some values using in the difference way:\n",
    "* Nhà Xuất Bản Hồng Đức & hong duc\n",
    "* Nhà Xuất Bản Dân Trí & NXB Dân Trí\n",
    "* Nhà Xuất Bản Đại Học Quốc Gia Hà Nội & ĐHQG Hà Nội\n",
    "\n",
    "\n",
    "Let grouping them"
   ]
  },
  {
   "cell_type": "code",
   "execution_count": 26,
   "id": "d9a78273",
   "metadata": {
    "execution": {
     "iopub.execute_input": "2022-12-12T14:40:04.598699Z",
     "iopub.status.busy": "2022-12-12T14:40:04.597628Z",
     "iopub.status.idle": "2022-12-12T14:40:04.605884Z",
     "shell.execute_reply": "2022-12-12T14:40:04.605055Z"
    },
    "papermill": {
     "duration": 0.031895,
     "end_time": "2022-12-12T14:40:04.608240",
     "exception": false,
     "start_time": "2022-12-12T14:40:04.576345",
     "status": "completed"
    },
    "tags": []
   },
   "outputs": [],
   "source": [
    "def handle_manufactuner(manufactuner):\n",
    "    if manufactuner == \"hong duc\":\n",
    "        return \"Nhà Xuất Bản Hồng Đức\"\n",
    "    elif manufactuner == \"NXB Dân Trí\":\n",
    "        return \"Nhà Xuất Bản Dân Trí\"\n",
    "    elif manufactuner == \"ĐHQG Hà Nội\":\n",
    "        return \"Nhà Xuất Bản Đại Học Quốc Gia Hà Nội\"\n",
    "    else:\n",
    "        return manufactuner\n",
    "    \n",
    "data_df.manufacturer = data_df.manufacturer.apply(lambda manufacturer: handle_manufactuner(manufacturer))"
   ]
  },
  {
   "cell_type": "markdown",
   "id": "d0084440",
   "metadata": {
    "papermill": {
     "duration": 0.019444,
     "end_time": "2022-12-12T14:40:04.647211",
     "exception": false,
     "start_time": "2022-12-12T14:40:04.627767",
     "status": "completed"
    },
    "tags": []
   },
   "source": [
    "Handle missing values."
   ]
  },
  {
   "cell_type": "code",
   "execution_count": 27,
   "id": "446404c4",
   "metadata": {
    "execution": {
     "iopub.execute_input": "2022-12-12T14:40:04.688818Z",
     "iopub.status.busy": "2022-12-12T14:40:04.687591Z",
     "iopub.status.idle": "2022-12-12T14:40:04.694239Z",
     "shell.execute_reply": "2022-12-12T14:40:04.693376Z"
    },
    "papermill": {
     "duration": 0.0298,
     "end_time": "2022-12-12T14:40:04.696611",
     "exception": false,
     "start_time": "2022-12-12T14:40:04.666811",
     "status": "completed"
    },
    "tags": []
   },
   "outputs": [],
   "source": [
    "data_df.manufacturer = data_df.manufacturer.fillna(\"Unknown\")"
   ]
  },
  {
   "cell_type": "code",
   "execution_count": 28,
   "id": "130dd3a8",
   "metadata": {
    "execution": {
     "iopub.execute_input": "2022-12-12T14:40:04.740648Z",
     "iopub.status.busy": "2022-12-12T14:40:04.739444Z",
     "iopub.status.idle": "2022-12-12T14:40:04.757800Z",
     "shell.execute_reply": "2022-12-12T14:40:04.756506Z"
    },
    "papermill": {
     "duration": 0.042028,
     "end_time": "2022-12-12T14:40:04.760449",
     "exception": false,
     "start_time": "2022-12-12T14:40:04.718421",
     "status": "completed"
    },
    "tags": []
   },
   "outputs": [
    {
     "data": {
      "text/html": [
       "<div>\n",
       "<style scoped>\n",
       "    .dataframe tbody tr th:only-of-type {\n",
       "        vertical-align: middle;\n",
       "    }\n",
       "\n",
       "    .dataframe tbody tr th {\n",
       "        vertical-align: top;\n",
       "    }\n",
       "\n",
       "    .dataframe thead th {\n",
       "        text-align: right;\n",
       "    }\n",
       "</style>\n",
       "<table border=\"1\" class=\"dataframe\">\n",
       "  <thead>\n",
       "    <tr style=\"text-align: right;\">\n",
       "      <th></th>\n",
       "      <th>product_id</th>\n",
       "      <th>title</th>\n",
       "      <th>authors</th>\n",
       "      <th>original_price</th>\n",
       "      <th>current_price</th>\n",
       "      <th>quantity</th>\n",
       "      <th>category</th>\n",
       "      <th>n_review</th>\n",
       "      <th>avg_rating</th>\n",
       "      <th>pages</th>\n",
       "      <th>manufacturer</th>\n",
       "      <th>cover_link</th>\n",
       "    </tr>\n",
       "  </thead>\n",
       "  <tbody>\n",
       "    <tr>\n",
       "      <th>0</th>\n",
       "      <td>74021317</td>\n",
       "      <td>Cây Cam Ngọt Của Tôi</td>\n",
       "      <td>José Mauro de Vasconcelos</td>\n",
       "      <td>108000</td>\n",
       "      <td>64800</td>\n",
       "      <td>53075.0</td>\n",
       "      <td>Tiểu Thuyết</td>\n",
       "      <td>11481</td>\n",
       "      <td>5.0</td>\n",
       "      <td>244</td>\n",
       "      <td>Nhà Xuất Bản Hội Nhà Văn</td>\n",
       "      <td>https://salt.tikicdn.com/ts/product/5e/18/24/2...</td>\n",
       "    </tr>\n",
       "    <tr>\n",
       "      <th>2</th>\n",
       "      <td>184466860</td>\n",
       "      <td>Hành Tinh Của Một Kẻ Nghĩ Nhiều</td>\n",
       "      <td>Nguyễn Đoàn Minh Thư</td>\n",
       "      <td>86000</td>\n",
       "      <td>59900</td>\n",
       "      <td>7929.0</td>\n",
       "      <td>Others</td>\n",
       "      <td>780</td>\n",
       "      <td>4.8</td>\n",
       "      <td>184</td>\n",
       "      <td>Nhà Xuất Bản Thế Giới</td>\n",
       "      <td>https://salt.tikicdn.com/ts/product/d7/99/24/1...</td>\n",
       "    </tr>\n",
       "    <tr>\n",
       "      <th>3</th>\n",
       "      <td>73787185</td>\n",
       "      <td>Những Tù Nhân Của Địa Lý</td>\n",
       "      <td>Tim Marshall</td>\n",
       "      <td>210000</td>\n",
       "      <td>126000</td>\n",
       "      <td>17896.0</td>\n",
       "      <td>Lĩnh vực khác</td>\n",
       "      <td>3623</td>\n",
       "      <td>4.8</td>\n",
       "      <td>430</td>\n",
       "      <td>Nhà Xuất Bản Hội Nhà Văn</td>\n",
       "      <td>https://salt.tikicdn.com/ts/product/8d/96/9e/c...</td>\n",
       "    </tr>\n",
       "    <tr>\n",
       "      <th>4</th>\n",
       "      <td>52789367</td>\n",
       "      <td>Nhà Giả Kim (Tái Bản 2020)</td>\n",
       "      <td>Paulo Coelho</td>\n",
       "      <td>79000</td>\n",
       "      <td>47400</td>\n",
       "      <td>24668.0</td>\n",
       "      <td>Tác phẩm kinh điển</td>\n",
       "      <td>5131</td>\n",
       "      <td>5.0</td>\n",
       "      <td>228</td>\n",
       "      <td>Nhà Xuất Bản Hà Nội</td>\n",
       "      <td>https://salt.tikicdn.com/ts/product/45/3b/fc/a...</td>\n",
       "    </tr>\n",
       "    <tr>\n",
       "      <th>5</th>\n",
       "      <td>147920903</td>\n",
       "      <td>Một Thoáng Ta Rực Rỡ Ở Nhân Gian</td>\n",
       "      <td>Unknown</td>\n",
       "      <td>135000</td>\n",
       "      <td>81000</td>\n",
       "      <td>10000.0</td>\n",
       "      <td>Tiểu Thuyết</td>\n",
       "      <td>1636</td>\n",
       "      <td>4.8</td>\n",
       "      <td>304</td>\n",
       "      <td>Nhà Xuất Bản Hội Nhà Văn</td>\n",
       "      <td>https://salt.tikicdn.com/ts/product/2f/b5/4e/a...</td>\n",
       "    </tr>\n",
       "  </tbody>\n",
       "</table>\n",
       "</div>"
      ],
      "text/plain": [
       "   product_id                             title                    authors  \\\n",
       "0    74021317              Cây Cam Ngọt Của Tôi  José Mauro de Vasconcelos   \n",
       "2   184466860   Hành Tinh Của Một Kẻ Nghĩ Nhiều       Nguyễn Đoàn Minh Thư   \n",
       "3    73787185          Những Tù Nhân Của Địa Lý               Tim Marshall   \n",
       "4    52789367        Nhà Giả Kim (Tái Bản 2020)               Paulo Coelho   \n",
       "5   147920903  Một Thoáng Ta Rực Rỡ Ở Nhân Gian                    Unknown   \n",
       "\n",
       "   original_price  current_price  quantity            category  n_review  \\\n",
       "0          108000          64800   53075.0         Tiểu Thuyết     11481   \n",
       "2           86000          59900    7929.0              Others       780   \n",
       "3          210000         126000   17896.0       Lĩnh vực khác      3623   \n",
       "4           79000          47400   24668.0  Tác phẩm kinh điển      5131   \n",
       "5          135000          81000   10000.0         Tiểu Thuyết      1636   \n",
       "\n",
       "   avg_rating  pages              manufacturer  \\\n",
       "0         5.0    244  Nhà Xuất Bản Hội Nhà Văn   \n",
       "2         4.8    184     Nhà Xuất Bản Thế Giới   \n",
       "3         4.8    430  Nhà Xuất Bản Hội Nhà Văn   \n",
       "4         5.0    228       Nhà Xuất Bản Hà Nội   \n",
       "5         4.8    304  Nhà Xuất Bản Hội Nhà Văn   \n",
       "\n",
       "                                          cover_link  \n",
       "0  https://salt.tikicdn.com/ts/product/5e/18/24/2...  \n",
       "2  https://salt.tikicdn.com/ts/product/d7/99/24/1...  \n",
       "3  https://salt.tikicdn.com/ts/product/8d/96/9e/c...  \n",
       "4  https://salt.tikicdn.com/ts/product/45/3b/fc/a...  \n",
       "5  https://salt.tikicdn.com/ts/product/2f/b5/4e/a...  "
      ]
     },
     "execution_count": 28,
     "metadata": {},
     "output_type": "execute_result"
    }
   ],
   "source": [
    "data_df.head()"
   ]
  },
  {
   "cell_type": "markdown",
   "id": "797deb40",
   "metadata": {
    "papermill": {
     "duration": 0.019701,
     "end_time": "2022-12-12T14:40:04.800798",
     "exception": false,
     "start_time": "2022-12-12T14:40:04.781097",
     "status": "completed"
    },
    "tags": []
   },
   "source": [
    "### Create new column(s)\n",
    "We have both original and current prices, let create discount column."
   ]
  },
  {
   "cell_type": "code",
   "execution_count": 29,
   "id": "b03636c1",
   "metadata": {
    "execution": {
     "iopub.execute_input": "2022-12-12T14:40:04.842877Z",
     "iopub.status.busy": "2022-12-12T14:40:04.841790Z",
     "iopub.status.idle": "2022-12-12T14:40:04.848525Z",
     "shell.execute_reply": "2022-12-12T14:40:04.847306Z"
    },
    "papermill": {
     "duration": 0.030056,
     "end_time": "2022-12-12T14:40:04.850816",
     "exception": false,
     "start_time": "2022-12-12T14:40:04.820760",
     "status": "completed"
    },
    "tags": []
   },
   "outputs": [],
   "source": [
    "data_df['discount'] = round(1 - data_df['current_price']/data_df['original_price'],2)"
   ]
  },
  {
   "cell_type": "markdown",
   "id": "186ba05e",
   "metadata": {
    "papermill": {
     "duration": 0.01977,
     "end_time": "2022-12-12T14:40:04.890832",
     "exception": false,
     "start_time": "2022-12-12T14:40:04.871062",
     "status": "completed"
    },
    "tags": []
   },
   "source": [
    "The Vietnamese Dong currency is still long for visualization, so I decided to convert them into USD."
   ]
  },
  {
   "cell_type": "code",
   "execution_count": 30,
   "id": "9ebb05b7",
   "metadata": {
    "execution": {
     "iopub.execute_input": "2022-12-12T14:40:04.933204Z",
     "iopub.status.busy": "2022-12-12T14:40:04.931908Z",
     "iopub.status.idle": "2022-12-12T14:40:04.945680Z",
     "shell.execute_reply": "2022-12-12T14:40:04.944672Z"
    },
    "papermill": {
     "duration": 0.037592,
     "end_time": "2022-12-12T14:40:04.948293",
     "exception": false,
     "start_time": "2022-12-12T14:40:04.910701",
     "status": "completed"
    },
    "tags": []
   },
   "outputs": [],
   "source": [
    "def convert_to_usd(vietnamdong):\n",
    "    usd = vietnamdong/23700\n",
    "    usd = round(usd, 2)\n",
    "    \n",
    "    return usd\n",
    "\n",
    "data_df.original_price = data_df.original_price.apply(lambda vietnamdong: convert_to_usd(vietnamdong))\n",
    "data_df.current_price = data_df.current_price.apply(lambda vietnamdong: convert_to_usd(vietnamdong))"
   ]
  },
  {
   "cell_type": "markdown",
   "id": "8bd509a1",
   "metadata": {
    "papermill": {
     "duration": 0.019707,
     "end_time": "2022-12-12T14:40:04.988217",
     "exception": false,
     "start_time": "2022-12-12T14:40:04.968510",
     "status": "completed"
    },
    "tags": []
   },
   "source": [
    "## 3.2 Change Datatype"
   ]
  },
  {
   "cell_type": "code",
   "execution_count": 31,
   "id": "a5c70918",
   "metadata": {
    "execution": {
     "iopub.execute_input": "2022-12-12T14:40:05.030873Z",
     "iopub.status.busy": "2022-12-12T14:40:05.030175Z",
     "iopub.status.idle": "2022-12-12T14:40:05.045282Z",
     "shell.execute_reply": "2022-12-12T14:40:05.043833Z"
    },
    "papermill": {
     "duration": 0.039834,
     "end_time": "2022-12-12T14:40:05.048535",
     "exception": false,
     "start_time": "2022-12-12T14:40:05.008701",
     "status": "completed"
    },
    "tags": []
   },
   "outputs": [
    {
     "name": "stdout",
     "output_type": "stream",
     "text": [
      "<class 'pandas.core.frame.DataFrame'>\n",
      "Int64Index: 1767 entries, 0 to 1795\n",
      "Data columns (total 13 columns):\n",
      " #   Column          Non-Null Count  Dtype  \n",
      "---  ------          --------------  -----  \n",
      " 0   product_id      1767 non-null   int64  \n",
      " 1   title           1767 non-null   object \n",
      " 2   authors         1767 non-null   object \n",
      " 3   original_price  1767 non-null   float64\n",
      " 4   current_price   1767 non-null   float64\n",
      " 5   quantity        1767 non-null   float64\n",
      " 6   category        1767 non-null   object \n",
      " 7   n_review        1767 non-null   int64  \n",
      " 8   avg_rating      1767 non-null   float64\n",
      " 9   pages           1767 non-null   int64  \n",
      " 10  manufacturer    1767 non-null   object \n",
      " 11  cover_link      1767 non-null   object \n",
      " 12  discount        1766 non-null   float64\n",
      "dtypes: float64(5), int64(3), object(5)\n",
      "memory usage: 193.3+ KB\n"
     ]
    }
   ],
   "source": [
    "data_df.info()"
   ]
  },
  {
   "cell_type": "code",
   "execution_count": 32,
   "id": "dcbfc07d",
   "metadata": {
    "execution": {
     "iopub.execute_input": "2022-12-12T14:40:05.091810Z",
     "iopub.status.busy": "2022-12-12T14:40:05.091131Z",
     "iopub.status.idle": "2022-12-12T14:40:05.103476Z",
     "shell.execute_reply": "2022-12-12T14:40:05.102566Z"
    },
    "papermill": {
     "duration": 0.03631,
     "end_time": "2022-12-12T14:40:05.105883",
     "exception": false,
     "start_time": "2022-12-12T14:40:05.069573",
     "status": "completed"
    },
    "tags": []
   },
   "outputs": [],
   "source": [
    "data_df.title = data_df.title.astype(\"string\")\n",
    "data_df.authors = data_df.authors.astype(\"string\")\n",
    "data_df.category = data_df.category.astype(\"string\")\n",
    "data_df.manufacturer = data_df.manufacturer.astype(\"string\")\n",
    "data_df.cover_link = data_df.cover_link.astype(\"string\")\n",
    "\n",
    "data_df.quantity = data_df.quantity.apply(lambda quantity: round(float(quantity)))\n",
    "data_df.quantity = data_df.quantity.astype(\"int64\")"
   ]
  },
  {
   "cell_type": "markdown",
   "id": "8a15e0af",
   "metadata": {
    "papermill": {
     "duration": 0.020118,
     "end_time": "2022-12-12T14:40:05.146268",
     "exception": false,
     "start_time": "2022-12-12T14:40:05.126150",
     "status": "completed"
    },
    "tags": []
   },
   "source": [
    "### Save File For Tableau"
   ]
  },
  {
   "cell_type": "code",
   "execution_count": 33,
   "id": "eea9f70e",
   "metadata": {
    "execution": {
     "iopub.execute_input": "2022-12-12T14:40:05.188117Z",
     "iopub.status.busy": "2022-12-12T14:40:05.187673Z",
     "iopub.status.idle": "2022-12-12T14:40:05.217241Z",
     "shell.execute_reply": "2022-12-12T14:40:05.216037Z"
    },
    "papermill": {
     "duration": 0.053524,
     "end_time": "2022-12-12T14:40:05.219757",
     "exception": false,
     "start_time": "2022-12-12T14:40:05.166233",
     "status": "completed"
    },
    "tags": []
   },
   "outputs": [],
   "source": [
    "data_df.to_csv(\"prepared_data_book.csv\")"
   ]
  },
  {
   "cell_type": "markdown",
   "id": "760228b5",
   "metadata": {
    "papermill": {
     "duration": 0.019693,
     "end_time": "2022-12-12T14:40:05.259560",
     "exception": false,
     "start_time": "2022-12-12T14:40:05.239867",
     "status": "completed"
    },
    "tags": []
   },
   "source": [
    "# 4. Exploratory Data Analysis (EDA)"
   ]
  },
  {
   "cell_type": "code",
   "execution_count": 34,
   "id": "fba8aa17",
   "metadata": {
    "execution": {
     "iopub.execute_input": "2022-12-12T14:40:05.302795Z",
     "iopub.status.busy": "2022-12-12T14:40:05.301477Z",
     "iopub.status.idle": "2022-12-12T14:40:05.320003Z",
     "shell.execute_reply": "2022-12-12T14:40:05.318722Z"
    },
    "papermill": {
     "duration": 0.04277,
     "end_time": "2022-12-12T14:40:05.322430",
     "exception": false,
     "start_time": "2022-12-12T14:40:05.279660",
     "status": "completed"
    },
    "tags": []
   },
   "outputs": [
    {
     "data": {
      "text/html": [
       "<div>\n",
       "<style scoped>\n",
       "    .dataframe tbody tr th:only-of-type {\n",
       "        vertical-align: middle;\n",
       "    }\n",
       "\n",
       "    .dataframe tbody tr th {\n",
       "        vertical-align: top;\n",
       "    }\n",
       "\n",
       "    .dataframe thead th {\n",
       "        text-align: right;\n",
       "    }\n",
       "</style>\n",
       "<table border=\"1\" class=\"dataframe\">\n",
       "  <thead>\n",
       "    <tr style=\"text-align: right;\">\n",
       "      <th></th>\n",
       "      <th>product_id</th>\n",
       "      <th>title</th>\n",
       "      <th>authors</th>\n",
       "      <th>original_price</th>\n",
       "      <th>current_price</th>\n",
       "      <th>quantity</th>\n",
       "      <th>category</th>\n",
       "      <th>n_review</th>\n",
       "      <th>avg_rating</th>\n",
       "      <th>pages</th>\n",
       "      <th>manufacturer</th>\n",
       "      <th>cover_link</th>\n",
       "      <th>discount</th>\n",
       "    </tr>\n",
       "  </thead>\n",
       "  <tbody>\n",
       "    <tr>\n",
       "      <th>0</th>\n",
       "      <td>74021317</td>\n",
       "      <td>Cây Cam Ngọt Của Tôi</td>\n",
       "      <td>José Mauro de Vasconcelos</td>\n",
       "      <td>4.56</td>\n",
       "      <td>2.73</td>\n",
       "      <td>53075</td>\n",
       "      <td>Tiểu Thuyết</td>\n",
       "      <td>11481</td>\n",
       "      <td>5.0</td>\n",
       "      <td>244</td>\n",
       "      <td>Nhà Xuất Bản Hội Nhà Văn</td>\n",
       "      <td>https://salt.tikicdn.com/ts/product/5e/18/24/2...</td>\n",
       "      <td>0.4</td>\n",
       "    </tr>\n",
       "  </tbody>\n",
       "</table>\n",
       "</div>"
      ],
      "text/plain": [
       "   product_id                 title                    authors  \\\n",
       "0    74021317  Cây Cam Ngọt Của Tôi  José Mauro de Vasconcelos   \n",
       "\n",
       "   original_price  current_price  quantity     category  n_review  avg_rating  \\\n",
       "0            4.56           2.73     53075  Tiểu Thuyết     11481         5.0   \n",
       "\n",
       "   pages              manufacturer  \\\n",
       "0    244  Nhà Xuất Bản Hội Nhà Văn   \n",
       "\n",
       "                                          cover_link  discount  \n",
       "0  https://salt.tikicdn.com/ts/product/5e/18/24/2...       0.4  "
      ]
     },
     "execution_count": 34,
     "metadata": {},
     "output_type": "execute_result"
    }
   ],
   "source": [
    "data_df.head(1)"
   ]
  },
  {
   "cell_type": "markdown",
   "id": "99ac5354",
   "metadata": {
    "papermill": {
     "duration": 0.020196,
     "end_time": "2022-12-12T14:40:05.363031",
     "exception": false,
     "start_time": "2022-12-12T14:40:05.342835",
     "status": "completed"
    },
    "tags": []
   },
   "source": [
    "Let create a new dataset to visualization easily."
   ]
  },
  {
   "cell_type": "code",
   "execution_count": 35,
   "id": "88221024",
   "metadata": {
    "execution": {
     "iopub.execute_input": "2022-12-12T14:40:05.405661Z",
     "iopub.status.busy": "2022-12-12T14:40:05.405190Z",
     "iopub.status.idle": "2022-12-12T14:40:05.413160Z",
     "shell.execute_reply": "2022-12-12T14:40:05.411810Z"
    },
    "papermill": {
     "duration": 0.032331,
     "end_time": "2022-12-12T14:40:05.415806",
     "exception": false,
     "start_time": "2022-12-12T14:40:05.383475",
     "status": "completed"
    },
    "tags": []
   },
   "outputs": [],
   "source": [
    "eda_df = data_df.drop(['product_id', 'cover_link'], axis=1)"
   ]
  },
  {
   "cell_type": "markdown",
   "id": "e2180996",
   "metadata": {
    "papermill": {
     "duration": 0.019998,
     "end_time": "2022-12-12T14:40:05.456324",
     "exception": false,
     "start_time": "2022-12-12T14:40:05.436326",
     "status": "completed"
    },
    "tags": []
   },
   "source": [
    "## 4.1 Data Overviewing"
   ]
  },
  {
   "cell_type": "markdown",
   "id": "d766ba11",
   "metadata": {
    "papermill": {
     "duration": 0.019983,
     "end_time": "2022-12-12T14:40:05.496650",
     "exception": false,
     "start_time": "2022-12-12T14:40:05.476667",
     "status": "completed"
    },
    "tags": []
   },
   "source": [
    "### Price\n",
    "* original_price\n",
    "* current_price"
   ]
  },
  {
   "cell_type": "code",
   "execution_count": 36,
   "id": "2f8879b6",
   "metadata": {
    "execution": {
     "iopub.execute_input": "2022-12-12T14:40:05.539576Z",
     "iopub.status.busy": "2022-12-12T14:40:05.538990Z",
     "iopub.status.idle": "2022-12-12T14:40:05.822041Z",
     "shell.execute_reply": "2022-12-12T14:40:05.821112Z"
    },
    "papermill": {
     "duration": 0.307548,
     "end_time": "2022-12-12T14:40:05.824705",
     "exception": false,
     "start_time": "2022-12-12T14:40:05.517157",
     "status": "completed"
    },
    "tags": []
   },
   "outputs": [
    {
     "data": {
      "image/png": "[encoded data removed]",
      "text/plain": [
       "<Figure size 720x504 with 1 Axes>"
      ]
     },
     "metadata": {},
     "output_type": "display_data"
    }
   ],
   "source": [
    "fig = plt.subplots(figsize=(10, 7))\n",
    "\n",
    "ax = sns.kdeplot(eda_df.original_price, color='gray', shade=True, label='Original')\n",
    "ax = sns.kdeplot(eda_df.current_price, color='g', shade=True, label='Current')\n",
    "\n",
    "plt.xlabel('Price')\n",
    "plt.title('Density of Original and Current Price')\n",
    "plt.legend()\n",
    "plt.show()"
   ]
  },
  {
   "cell_type": "markdown",
   "id": "b4766284",
   "metadata": {
    "papermill": {
     "duration": 0.020763,
     "end_time": "2022-12-12T14:40:05.867659",
     "exception": false,
     "start_time": "2022-12-12T14:40:05.846896",
     "status": "completed"
    },
    "tags": []
   },
   "source": [
    "Look at the picture, the price of almost books is less than $20. There is a intering thing, that the price of books in Vietnam is so cheap."
   ]
  },
  {
   "cell_type": "markdown",
   "id": "8aeaee34",
   "metadata": {
    "papermill": {
     "duration": 0.021252,
     "end_time": "2022-12-12T14:40:05.910250",
     "exception": false,
     "start_time": "2022-12-12T14:40:05.888998",
     "status": "completed"
    },
    "tags": []
   },
   "source": [
    "### Discount per Category"
   ]
  },
  {
   "cell_type": "markdown",
   "id": "d8c6e69a",
   "metadata": {
    "papermill": {
     "duration": 0.020739,
     "end_time": "2022-12-12T14:40:05.952440",
     "exception": false,
     "start_time": "2022-12-12T14:40:05.931701",
     "status": "completed"
    },
    "tags": []
   },
   "source": [
    "We will focus on the discount baseded on category."
   ]
  },
  {
   "cell_type": "code",
   "execution_count": 37,
   "id": "26a65f36",
   "metadata": {
    "execution": {
     "iopub.execute_input": "2022-12-12T14:40:05.996913Z",
     "iopub.status.busy": "2022-12-12T14:40:05.996181Z",
     "iopub.status.idle": "2022-12-12T14:40:06.008011Z",
     "shell.execute_reply": "2022-12-12T14:40:06.006902Z"
    },
    "papermill": {
     "duration": 0.037043,
     "end_time": "2022-12-12T14:40:06.010723",
     "exception": false,
     "start_time": "2022-12-12T14:40:05.973680",
     "status": "completed"
    },
    "tags": []
   },
   "outputs": [
    {
     "data": {
      "text/plain": [
       "category\n",
       "Bài học kinh doanh                         0.263962\n",
       "Kiến Thức Bách Khoa                        0.311739\n",
       "Kiến thức - Bách khoa                      0.308485\n",
       "Light novel                                0.250000\n",
       "Lĩnh vực khác                              0.316774\n",
       "Lịch Sử Thế Giới                           0.314286\n",
       "Others                                     0.230339\n",
       "Sách Chiêm Tinh - Horoscope                0.259286\n",
       "Sách Học Tiếng Anh                         0.310750\n",
       "Sách Học Tiếng Hoa                         0.182857\n",
       "Sách Làm Cha Mẹ                            0.308125\n",
       "Sách Marketing - Bán hàng                  0.254500\n",
       "Sách giáo dục                              0.291538\n",
       "Sách kinh tế học                           0.324615\n",
       "Sách kỹ năng làm việc                      0.296364\n",
       "Sách nghệ thuật sống đẹp                   0.281552\n",
       "Sách quản trị, lãnh đạo                    0.286667\n",
       "Sách tài chính, tiền tệ                    0.121750\n",
       "Tiểu Thuyết                                0.353910\n",
       "Tiểu sử - Hồi ký                           0.363750\n",
       "Truyện Giả tưởng - Huyền Bí - Phiêu Lưu    0.345946\n",
       "Truyện dài                                 0.363043\n",
       "Truyện kể cho bé                           0.339444\n",
       "Truyện ngắn - Tản văn - Tạp Văn            0.325000\n",
       "Truyện tranh Ehon                          0.301429\n",
       "Truyện trinh thám                          0.325385\n",
       "Truyện đam mỹ                              0.267222\n",
       "Tác phẩm kinh điển                         0.350000\n",
       "Tô màu - Luyện chữ                         0.380833\n",
       "Văn học thiếu nhi                          0.282857\n",
       "Name: discount, dtype: float64"
      ]
     },
     "execution_count": 37,
     "metadata": {},
     "output_type": "execute_result"
    }
   ],
   "source": [
    "# Finding the mean of discount for each category.\n",
    "eda_df.groupby('category').discount.mean()"
   ]
  },
  {
   "cell_type": "code",
   "execution_count": 38,
   "id": "e4428964",
   "metadata": {
    "execution": {
     "iopub.execute_input": "2022-12-12T14:40:06.055480Z",
     "iopub.status.busy": "2022-12-12T14:40:06.054394Z",
     "iopub.status.idle": "2022-12-12T14:40:06.446978Z",
     "shell.execute_reply": "2022-12-12T14:40:06.445588Z"
    },
    "papermill": {
     "duration": 0.418121,
     "end_time": "2022-12-12T14:40:06.450016",
     "exception": false,
     "start_time": "2022-12-12T14:40:06.031895",
     "status": "completed"
    },
    "tags": []
   },
   "outputs": [
    {
     "data": {
      "image/png": "[encoded data removed]",
      "text/plain": [
       "<Figure size 720x720 with 1 Axes>"
      ]
     },
     "metadata": {},
     "output_type": "display_data"
    }
   ],
   "source": [
    "fig, ax = plt.subplots(figsize=(10,10))\n",
    "\n",
    "ax=eda_df.groupby('category').discount.mean().sort_values(ascending=True).plot(kind='barh', color='gray')\n",
    "\n",
    "plt.xlabel('Discount rating')\n",
    "plt.ylabel('Category')\n",
    "plt.title('The Mean Discounting of Categories')\n",
    "plt.show()"
   ]
  },
  {
   "cell_type": "markdown",
   "id": "f79cee4d",
   "metadata": {
    "papermill": {
     "duration": 0.022176,
     "end_time": "2022-12-12T14:40:06.494814",
     "exception": false,
     "start_time": "2022-12-12T14:40:06.472638",
     "status": "completed"
    },
    "tags": []
   },
   "source": [
    "Most of the discounted categories is tale (contain 'Truyen')"
   ]
  },
  {
   "cell_type": "markdown",
   "id": "e9ffedbc",
   "metadata": {
    "papermill": {
     "duration": 0.02213,
     "end_time": "2022-12-12T14:40:06.539376",
     "exception": false,
     "start_time": "2022-12-12T14:40:06.517246",
     "status": "completed"
    },
    "tags": []
   },
   "source": [
    "### Quantity per Category All of Time"
   ]
  },
  {
   "cell_type": "markdown",
   "id": "b70f8466",
   "metadata": {
    "papermill": {
     "duration": 0.022331,
     "end_time": "2022-12-12T14:40:06.584531",
     "exception": false,
     "start_time": "2022-12-12T14:40:06.562200",
     "status": "completed"
    },
    "tags": []
   },
   "source": [
    "Let see how the mean of selled books by each category."
   ]
  },
  {
   "cell_type": "code",
   "execution_count": 39,
   "id": "ccd7f8b4",
   "metadata": {
    "execution": {
     "iopub.execute_input": "2022-12-12T14:40:06.632039Z",
     "iopub.status.busy": "2022-12-12T14:40:06.631527Z",
     "iopub.status.idle": "2022-12-12T14:40:07.021528Z",
     "shell.execute_reply": "2022-12-12T14:40:07.020338Z"
    },
    "papermill": {
     "duration": 0.417082,
     "end_time": "2022-12-12T14:40:07.024173",
     "exception": false,
     "start_time": "2022-12-12T14:40:06.607091",
     "status": "completed"
    },
    "tags": []
   },
   "outputs": [
    {
     "data": {
      "image/png": "[encoded data removed]",
      "text/plain": [
       "<Figure size 720x720 with 1 Axes>"
      ]
     },
     "metadata": {},
     "output_type": "display_data"
    }
   ],
   "source": [
    "fig, ax = plt.subplots(figsize=(10,10))\n",
    "\n",
    "ax=eda_df.groupby('category').quantity.mean().sort_values(ascending=True).plot(kind='barh', color='gray')\n",
    "\n",
    "plt.xlabel('Number of Books')\n",
    "plt.ylabel('Category')\n",
    "plt.title('The Sum Quantity of Categories')\n",
    "plt.show()"
   ]
  },
  {
   "cell_type": "markdown",
   "id": "b2e110e7",
   "metadata": {
    "papermill": {
     "duration": 0.023625,
     "end_time": "2022-12-12T14:40:07.071772",
     "exception": false,
     "start_time": "2022-12-12T14:40:07.048147",
     "status": "completed"
    },
    "tags": []
   },
   "source": [
    "### Rating per Category"
   ]
  },
  {
   "cell_type": "code",
   "execution_count": 40,
   "id": "dccc0ee1",
   "metadata": {
    "execution": {
     "iopub.execute_input": "2022-12-12T14:40:07.121286Z",
     "iopub.status.busy": "2022-12-12T14:40:07.120860Z",
     "iopub.status.idle": "2022-12-12T14:40:07.631044Z",
     "shell.execute_reply": "2022-12-12T14:40:07.629804Z"
    },
    "papermill": {
     "duration": 0.538767,
     "end_time": "2022-12-12T14:40:07.634167",
     "exception": false,
     "start_time": "2022-12-12T14:40:07.095400",
     "status": "completed"
    },
    "tags": []
   },
   "outputs": [
    {
     "data": {
      "image/png": "[encoded data removed]",
      "text/plain": [
       "<Figure size 720x720 with 1 Axes>"
      ]
     },
     "metadata": {},
     "output_type": "display_data"
    }
   ],
   "source": [
    "fig, ax = plt.subplots(figsize=(10,10))\n",
    "\n",
    "ax=eda_df.groupby('category').avg_rating.mean().sort_values(ascending=True).plot(kind='barh', color='gray')\n",
    "\n",
    "plt.xlabel('Avg. Rating')\n",
    "plt.ylabel('Category')\n",
    "plt.title('Avg, Rating of Categories')\n",
    "plt.show()"
   ]
  },
  {
   "cell_type": "markdown",
   "id": "0c232fe5",
   "metadata": {
    "papermill": {
     "duration": 0.024837,
     "end_time": "2022-12-12T14:40:07.684373",
     "exception": false,
     "start_time": "2022-12-12T14:40:07.659536",
     "status": "completed"
    },
    "tags": []
   },
   "source": [
    "All of categories have the mean of average rating larger than 4.0."
   ]
  },
  {
   "cell_type": "markdown",
   "id": "9ab3ef61",
   "metadata": {
    "papermill": {
     "duration": 0.025125,
     "end_time": "2022-12-12T14:40:07.734946",
     "exception": false,
     "start_time": "2022-12-12T14:40:07.709821",
     "status": "completed"
    },
    "tags": []
   },
   "source": [
    "## 4.2 EDA"
   ]
  },
  {
   "cell_type": "markdown",
   "id": "7837f791",
   "metadata": {
    "papermill": {
     "duration": 0.024458,
     "end_time": "2022-12-12T14:40:07.785163",
     "exception": false,
     "start_time": "2022-12-12T14:40:07.760705",
     "status": "completed"
    },
    "tags": []
   },
   "source": [
    "### The more pages, the more expensive?"
   ]
  },
  {
   "cell_type": "code",
   "execution_count": 41,
   "id": "bf3a267a",
   "metadata": {
    "execution": {
     "iopub.execute_input": "2022-12-12T14:40:07.836638Z",
     "iopub.status.busy": "2022-12-12T14:40:07.836227Z",
     "iopub.status.idle": "2022-12-12T14:40:08.037930Z",
     "shell.execute_reply": "2022-12-12T14:40:08.036705Z"
    },
    "papermill": {
     "duration": 0.230616,
     "end_time": "2022-12-12T14:40:08.040688",
     "exception": false,
     "start_time": "2022-12-12T14:40:07.810072",
     "status": "completed"
    },
    "tags": []
   },
   "outputs": [
    {
     "data": {
      "image/png": "[encoded data removed]",
      "text/plain": [
       "<Figure size 720x504 with 1 Axes>"
      ]
     },
     "metadata": {},
     "output_type": "display_data"
    }
   ],
   "source": [
    "fig = plt.subplots(figsize=(10, 7))\n",
    "\n",
    "ax=sns.scatterplot(data=eda_df, x='pages', y='current_price')#, color=\"\",color_continuous_scale='RdBu_r')\n",
    "\n",
    "plt.xlabel('Number of Pages')\n",
    "plt.ylabel('Price')\n",
    "plt.title('Scatter of Pages and Price')\n",
    "plt.show()"
   ]
  },
  {
   "cell_type": "markdown",
   "id": "8c2dc39e",
   "metadata": {
    "papermill": {
     "duration": 0.025255,
     "end_time": "2022-12-12T14:40:08.092056",
     "exception": false,
     "start_time": "2022-12-12T14:40:08.066801",
     "status": "completed"
    },
    "tags": []
   },
   "source": [
    "There are some books with lartger pages and low price, and vice versa."
   ]
  },
  {
   "cell_type": "markdown",
   "id": "37f911e2",
   "metadata": {
    "papermill": {
     "duration": 0.025551,
     "end_time": "2022-12-12T14:40:08.143485",
     "exception": false,
     "start_time": "2022-12-12T14:40:08.117934",
     "status": "completed"
    },
    "tags": []
   },
   "source": [
    "### What is the largest authors?"
   ]
  },
  {
   "cell_type": "markdown",
   "id": "2e8bb7f0",
   "metadata": {
    "papermill": {
     "duration": 0.025171,
     "end_time": "2022-12-12T14:40:08.194356",
     "exception": false,
     "start_time": "2022-12-12T14:40:08.169185",
     "status": "completed"
    },
    "tags": []
   },
   "source": [
    "The assumption is that the author always in top 5 of:\n",
    "* Quantity\n",
    "* Number of Reviews\n",
    "* Average Rating"
   ]
  },
  {
   "cell_type": "code",
   "execution_count": 42,
   "id": "9cbfc409",
   "metadata": {
    "execution": {
     "iopub.execute_input": "2022-12-12T14:40:08.247967Z",
     "iopub.status.busy": "2022-12-12T14:40:08.246806Z",
     "iopub.status.idle": "2022-12-12T14:40:08.252563Z",
     "shell.execute_reply": "2022-12-12T14:40:08.251650Z"
    },
    "papermill": {
     "duration": 0.035149,
     "end_time": "2022-12-12T14:40:08.254982",
     "exception": false,
     "start_time": "2022-12-12T14:40:08.219833",
     "status": "completed"
    },
    "tags": []
   },
   "outputs": [],
   "source": [
    "def sort_authors_by_col(col):\n",
    "    res = eda_df.groupby('authors')[col]\\\n",
    "        .mean()\\\n",
    "        .sort_values(ascending=False)\\\n",
    "        .index.tolist()\n",
    "    \n",
    "    return res"
   ]
  },
  {
   "cell_type": "code",
   "execution_count": 43,
   "id": "a5bab589",
   "metadata": {
    "execution": {
     "iopub.execute_input": "2022-12-12T14:40:08.313922Z",
     "iopub.status.busy": "2022-12-12T14:40:08.313076Z",
     "iopub.status.idle": "2022-12-12T14:40:08.326528Z",
     "shell.execute_reply": "2022-12-12T14:40:08.325211Z"
    },
    "papermill": {
     "duration": 0.043913,
     "end_time": "2022-12-12T14:40:08.329315",
     "exception": false,
     "start_time": "2022-12-12T14:40:08.285402",
     "status": "completed"
    },
    "tags": []
   },
   "outputs": [],
   "source": [
    "quantity_lst = sort_authors_by_col(\"quantity\")\n",
    "n_reviews_lst = sort_authors_by_col(\"n_review\")\n",
    "avg_rating_lst = sort_authors_by_col(\"avg_rating\")"
   ]
  },
  {
   "cell_type": "code",
   "execution_count": 44,
   "id": "14279858",
   "metadata": {
    "execution": {
     "iopub.execute_input": "2022-12-12T14:40:08.383924Z",
     "iopub.status.busy": "2022-12-12T14:40:08.382649Z",
     "iopub.status.idle": "2022-12-12T14:40:08.391550Z",
     "shell.execute_reply": "2022-12-12T14:40:08.390624Z"
    },
    "papermill": {
     "duration": 0.03895,
     "end_time": "2022-12-12T14:40:08.393911",
     "exception": false,
     "start_time": "2022-12-12T14:40:08.354961",
     "status": "completed"
    },
    "tags": []
   },
   "outputs": [
    {
     "data": {
      "text/plain": [
       "['Thái Phạm', 'GEORGE SAMUEL CLASON', 'Jack Canfield & DD.Watkins']"
      ]
     },
     "execution_count": 44,
     "metadata": {},
     "output_type": "execute_result"
    }
   ],
   "source": [
    "def top_k_common_elements(list1, list2, list3, k=10):\n",
    "    list1, list2, list3 = list1[:k], list2[:k], list3[:k]\n",
    "    return list(set(list1) & set(list2) & set(list3))\n",
    "        \n",
    "result = top_k_common_elements(quantity_lst, n_reviews_lst, avg_rating_lst, 100)\n",
    "result"
   ]
  },
  {
   "cell_type": "markdown",
   "id": "460b0945",
   "metadata": {
    "papermill": {
     "duration": 0.026125,
     "end_time": "2022-12-12T14:40:08.446675",
     "exception": false,
     "start_time": "2022-12-12T14:40:08.420550",
     "status": "completed"
    },
    "tags": []
   },
   "source": [
    "In the top 100 of the defined-assumption, we found three authors:\n",
    "* Jack Canfield & DD.Watkins\n",
    "* GEORGE SAMUEL CLASON\n",
    "* Thái Phạm\n",
    "\n",
    "Let see these book(s)!"
   ]
  },
  {
   "cell_type": "code",
   "execution_count": 45,
   "id": "09dc177a",
   "metadata": {
    "execution": {
     "iopub.execute_input": "2022-12-12T14:40:08.501348Z",
     "iopub.status.busy": "2022-12-12T14:40:08.500316Z",
     "iopub.status.idle": "2022-12-12T14:40:08.520681Z",
     "shell.execute_reply": "2022-12-12T14:40:08.519704Z"
    },
    "papermill": {
     "duration": 0.050598,
     "end_time": "2022-12-12T14:40:08.523030",
     "exception": false,
     "start_time": "2022-12-12T14:40:08.472432",
     "status": "completed"
    },
    "tags": []
   },
   "outputs": [
    {
     "data": {
      "text/html": [
       "<div>\n",
       "<style scoped>\n",
       "    .dataframe tbody tr th:only-of-type {\n",
       "        vertical-align: middle;\n",
       "    }\n",
       "\n",
       "    .dataframe tbody tr th {\n",
       "        vertical-align: top;\n",
       "    }\n",
       "\n",
       "    .dataframe thead th {\n",
       "        text-align: right;\n",
       "    }\n",
       "</style>\n",
       "<table border=\"1\" class=\"dataframe\">\n",
       "  <thead>\n",
       "    <tr style=\"text-align: right;\">\n",
       "      <th></th>\n",
       "      <th>title</th>\n",
       "      <th>original_price</th>\n",
       "      <th>current_price</th>\n",
       "      <th>quantity</th>\n",
       "      <th>category</th>\n",
       "      <th>n_review</th>\n",
       "      <th>avg_rating</th>\n",
       "      <th>pages</th>\n",
       "      <th>manufacturer</th>\n",
       "      <th>discount</th>\n",
       "    </tr>\n",
       "  </thead>\n",
       "  <tbody>\n",
       "    <tr>\n",
       "      <th>0</th>\n",
       "      <td>Người Nam Châm (Tái Bản 2019)</td>\n",
       "      <td>2.74</td>\n",
       "      <td>1.94</td>\n",
       "      <td>14075</td>\n",
       "      <td>Sách kỹ năng làm việc</td>\n",
       "      <td>1774</td>\n",
       "      <td>5.0</td>\n",
       "      <td>194</td>\n",
       "      <td>Unknown</td>\n",
       "      <td>0.29</td>\n",
       "    </tr>\n",
       "  </tbody>\n",
       "</table>\n",
       "</div>"
      ],
      "text/plain": [
       "                           title  original_price  current_price  quantity  \\\n",
       "0  Người Nam Châm (Tái Bản 2019)            2.74           1.94     14075   \n",
       "\n",
       "                category  n_review  avg_rating  pages manufacturer  discount  \n",
       "0  Sách kỹ năng làm việc      1774         5.0    194      Unknown      0.29  "
      ]
     },
     "execution_count": 45,
     "metadata": {},
     "output_type": "execute_result"
    }
   ],
   "source": [
    "# Jack Canfield & DD.Watkins\n",
    "eda_df.query('authors == \"Jack Canfield & DD.Watkins\"')\\\n",
    "        .sort_values(by='quantity', ascending=False)\\\n",
    "        .reset_index(drop=True)\\\n",
    "        .drop(['authors'], axis=1)"
   ]
  },
  {
   "cell_type": "code",
   "execution_count": 46,
   "id": "b79d8a6b",
   "metadata": {
    "execution": {
     "iopub.execute_input": "2022-12-12T14:40:08.578518Z",
     "iopub.status.busy": "2022-12-12T14:40:08.577866Z",
     "iopub.status.idle": "2022-12-12T14:40:08.598874Z",
     "shell.execute_reply": "2022-12-12T14:40:08.597621Z"
    },
    "papermill": {
     "duration": 0.05209,
     "end_time": "2022-12-12T14:40:08.601817",
     "exception": false,
     "start_time": "2022-12-12T14:40:08.549727",
     "status": "completed"
    },
    "tags": []
   },
   "outputs": [
    {
     "data": {
      "text/html": [
       "<div>\n",
       "<style scoped>\n",
       "    .dataframe tbody tr th:only-of-type {\n",
       "        vertical-align: middle;\n",
       "    }\n",
       "\n",
       "    .dataframe tbody tr th {\n",
       "        vertical-align: top;\n",
       "    }\n",
       "\n",
       "    .dataframe thead th {\n",
       "        text-align: right;\n",
       "    }\n",
       "</style>\n",
       "<table border=\"1\" class=\"dataframe\">\n",
       "  <thead>\n",
       "    <tr style=\"text-align: right;\">\n",
       "      <th></th>\n",
       "      <th>title</th>\n",
       "      <th>original_price</th>\n",
       "      <th>current_price</th>\n",
       "      <th>quantity</th>\n",
       "      <th>category</th>\n",
       "      <th>n_review</th>\n",
       "      <th>avg_rating</th>\n",
       "      <th>pages</th>\n",
       "      <th>manufacturer</th>\n",
       "      <th>discount</th>\n",
       "    </tr>\n",
       "  </thead>\n",
       "  <tbody>\n",
       "    <tr>\n",
       "      <th>0</th>\n",
       "      <td>Thiết Kế Cuộc Đời Thịnh Vượng - Design a Prosp...</td>\n",
       "      <td>12.62</td>\n",
       "      <td>12.62</td>\n",
       "      <td>15571</td>\n",
       "      <td>Others</td>\n",
       "      <td>2808</td>\n",
       "      <td>5.0</td>\n",
       "      <td>352</td>\n",
       "      <td>Nhà Xuất Bản Thế Giới</td>\n",
       "      <td>0.0</td>\n",
       "    </tr>\n",
       "    <tr>\n",
       "      <th>1</th>\n",
       "      <td>101 Lời Khuyên Tài Chính Cá Nhân Từ Thái Phạm</td>\n",
       "      <td>12.62</td>\n",
       "      <td>12.62</td>\n",
       "      <td>381</td>\n",
       "      <td>Sách tài chính, tiền tệ</td>\n",
       "      <td>52</td>\n",
       "      <td>5.0</td>\n",
       "      <td>408</td>\n",
       "      <td>Nhà Xuất Bản Thế Giới</td>\n",
       "      <td>0.0</td>\n",
       "    </tr>\n",
       "  </tbody>\n",
       "</table>\n",
       "</div>"
      ],
      "text/plain": [
       "                                               title  original_price  \\\n",
       "0  Thiết Kế Cuộc Đời Thịnh Vượng - Design a Prosp...           12.62   \n",
       "1      101 Lời Khuyên Tài Chính Cá Nhân Từ Thái Phạm           12.62   \n",
       "\n",
       "   current_price  quantity                 category  n_review  avg_rating  \\\n",
       "0          12.62     15571                   Others      2808         5.0   \n",
       "1          12.62       381  Sách tài chính, tiền tệ        52         5.0   \n",
       "\n",
       "   pages           manufacturer  discount  \n",
       "0    352  Nhà Xuất Bản Thế Giới       0.0  \n",
       "1    408  Nhà Xuất Bản Thế Giới       0.0  "
      ]
     },
     "execution_count": 46,
     "metadata": {},
     "output_type": "execute_result"
    }
   ],
   "source": [
    "# Thái Phạm\n",
    "eda_df.query('authors == \"Thái Phạm\"')\\\n",
    "        .sort_values(by='quantity', ascending=False)\\\n",
    "        .reset_index(drop=True)\\\n",
    "        .drop(['authors'], axis=1)"
   ]
  },
  {
   "cell_type": "code",
   "execution_count": 47,
   "id": "896f8e42",
   "metadata": {
    "execution": {
     "iopub.execute_input": "2022-12-12T14:40:08.660516Z",
     "iopub.status.busy": "2022-12-12T14:40:08.659819Z",
     "iopub.status.idle": "2022-12-12T14:40:08.682022Z",
     "shell.execute_reply": "2022-12-12T14:40:08.680711Z"
    },
    "papermill": {
     "duration": 0.053982,
     "end_time": "2022-12-12T14:40:08.684612",
     "exception": false,
     "start_time": "2022-12-12T14:40:08.630630",
     "status": "completed"
    },
    "tags": []
   },
   "outputs": [
    {
     "data": {
      "text/html": [
       "<div>\n",
       "<style scoped>\n",
       "    .dataframe tbody tr th:only-of-type {\n",
       "        vertical-align: middle;\n",
       "    }\n",
       "\n",
       "    .dataframe tbody tr th {\n",
       "        vertical-align: top;\n",
       "    }\n",
       "\n",
       "    .dataframe thead th {\n",
       "        text-align: right;\n",
       "    }\n",
       "</style>\n",
       "<table border=\"1\" class=\"dataframe\">\n",
       "  <thead>\n",
       "    <tr style=\"text-align: right;\">\n",
       "      <th></th>\n",
       "      <th>title</th>\n",
       "      <th>original_price</th>\n",
       "      <th>current_price</th>\n",
       "      <th>quantity</th>\n",
       "      <th>category</th>\n",
       "      <th>n_review</th>\n",
       "      <th>avg_rating</th>\n",
       "      <th>pages</th>\n",
       "      <th>manufacturer</th>\n",
       "      <th>discount</th>\n",
       "    </tr>\n",
       "  </thead>\n",
       "  <tbody>\n",
       "    <tr>\n",
       "      <th>0</th>\n",
       "      <td>Người Giàu Có Nhất Thành Babylon (Tái Bản 2020)</td>\n",
       "      <td>4.14</td>\n",
       "      <td>2.73</td>\n",
       "      <td>12729</td>\n",
       "      <td>Bài học kinh doanh</td>\n",
       "      <td>2134</td>\n",
       "      <td>5.0</td>\n",
       "      <td>216</td>\n",
       "      <td>Nhà Xuất Bản Tổng hợp TP.HCM</td>\n",
       "      <td>0.34</td>\n",
       "    </tr>\n",
       "  </tbody>\n",
       "</table>\n",
       "</div>"
      ],
      "text/plain": [
       "                                             title  original_price  \\\n",
       "0  Người Giàu Có Nhất Thành Babylon (Tái Bản 2020)            4.14   \n",
       "\n",
       "   current_price  quantity            category  n_review  avg_rating  pages  \\\n",
       "0           2.73     12729  Bài học kinh doanh      2134         5.0    216   \n",
       "\n",
       "                   manufacturer  discount  \n",
       "0  Nhà Xuất Bản Tổng hợp TP.HCM      0.34  "
      ]
     },
     "execution_count": 47,
     "metadata": {},
     "output_type": "execute_result"
    }
   ],
   "source": [
    "# GEORGE SAMUEL CLASON\n",
    "eda_df.query('authors == \"GEORGE SAMUEL CLASON\"')\\\n",
    "        .sort_values(by='quantity', ascending=False)\\\n",
    "        .reset_index(drop=True)\\\n",
    "        .drop(['authors'], axis=1)"
   ]
  },
  {
   "cell_type": "markdown",
   "id": "807ef13a",
   "metadata": {
    "papermill": {
     "duration": 0.026856,
     "end_time": "2022-12-12T14:40:08.739244",
     "exception": false,
     "start_time": "2022-12-12T14:40:08.712388",
     "status": "completed"
    },
    "tags": []
   },
   "source": [
    "### What is the best seller book?\n",
    "The assumsion is that the book always in top 5 of:\n",
    "* Quantity\n",
    "* Number of Reviews\n",
    "* Average Rating"
   ]
  },
  {
   "cell_type": "code",
   "execution_count": 48,
   "id": "93197710",
   "metadata": {
    "execution": {
     "iopub.execute_input": "2022-12-12T14:40:08.795835Z",
     "iopub.status.busy": "2022-12-12T14:40:08.795336Z",
     "iopub.status.idle": "2022-12-12T14:40:08.800869Z",
     "shell.execute_reply": "2022-12-12T14:40:08.799902Z"
    },
    "papermill": {
     "duration": 0.036894,
     "end_time": "2022-12-12T14:40:08.803099",
     "exception": false,
     "start_time": "2022-12-12T14:40:08.766205",
     "status": "completed"
    },
    "tags": []
   },
   "outputs": [],
   "source": [
    "def sort_title_by_col(col):\n",
    "    # I used a trick here, because we group by title (without duplicated value).\n",
    "    # The aim is to map with title against.\n",
    "    res = eda_df.groupby(\"title\")[col].max()\\\n",
    "        .sort_values(ascending=False)\\\n",
    "        .index.tolist()\n",
    "    \n",
    "    return res"
   ]
  },
  {
   "cell_type": "code",
   "execution_count": 49,
   "id": "11f0c185",
   "metadata": {
    "execution": {
     "iopub.execute_input": "2022-12-12T14:40:08.858212Z",
     "iopub.status.busy": "2022-12-12T14:40:08.856958Z",
     "iopub.status.idle": "2022-12-12T14:40:08.877023Z",
     "shell.execute_reply": "2022-12-12T14:40:08.875934Z"
    },
    "papermill": {
     "duration": 0.050206,
     "end_time": "2022-12-12T14:40:08.879596",
     "exception": false,
     "start_time": "2022-12-12T14:40:08.829390",
     "status": "completed"
    },
    "tags": []
   },
   "outputs": [],
   "source": [
    "quantity_lst = sort_title_by_col(\"quantity\")\n",
    "n_reviews_lst = sort_title_by_col(\"n_review\")\n",
    "avg_rating_lst = sort_title_by_col(\"avg_rating\")"
   ]
  },
  {
   "cell_type": "code",
   "execution_count": 50,
   "id": "d0812aa6",
   "metadata": {
    "execution": {
     "iopub.execute_input": "2022-12-12T14:40:08.934037Z",
     "iopub.status.busy": "2022-12-12T14:40:08.933586Z",
     "iopub.status.idle": "2022-12-12T14:40:08.943444Z",
     "shell.execute_reply": "2022-12-12T14:40:08.942138Z"
    },
    "papermill": {
     "duration": 0.039907,
     "end_time": "2022-12-12T14:40:08.945832",
     "exception": false,
     "start_time": "2022-12-12T14:40:08.905925",
     "status": "completed"
    },
    "tags": []
   },
   "outputs": [
    {
     "data": {
      "text/plain": [
       "['Giải Thích Ngữ Pháp Tiếng Anh (Với Bài Tập Và Đáp Án) (Tái Bản)',\n",
       " 'Muôn Kiếp Nhân Sinh 2',\n",
       " 'Làm Bạn Với Bầu Trời (Bìa Mềm) (Tặng Kèm Khung Ảnh Số Lượng Có Hạn)',\n",
       " 'Muôn Kiếp Nhân Sinh (Bìa Cứng)',\n",
       " 'Không Sợ Chậm Chỉ Sợ Dừng\\xa0',\n",
       " 'Từ Tốt Đến Vĩ Đại (Tái bản 2021)']"
      ]
     },
     "execution_count": 50,
     "metadata": {},
     "output_type": "execute_result"
    }
   ],
   "source": [
    "def top_k_common_elements(list1, list2, list3, k=10):\n",
    "    list1, list2, list3 = list1[:k], list2[:k], list3[:k]\n",
    "    return list(set(list1) & set(list2) & set(list3))\n",
    "        \n",
    "result = top_k_common_elements(quantity_lst, n_reviews_lst, avg_rating_lst, 200)\n",
    "result"
   ]
  },
  {
   "cell_type": "markdown",
   "id": "a62d9fb8",
   "metadata": {
    "papermill": {
     "duration": 0.025929,
     "end_time": "2022-12-12T14:40:08.998250",
     "exception": false,
     "start_time": "2022-12-12T14:40:08.972321",
     "status": "completed"
    },
    "tags": []
   },
   "source": [
    "In the top 200 of the defined-assumption, we found some titles. Let see these book(s)!"
   ]
  },
  {
   "cell_type": "code",
   "execution_count": 51,
   "id": "6a7e7117",
   "metadata": {
    "execution": {
     "iopub.execute_input": "2022-12-12T14:40:09.053029Z",
     "iopub.status.busy": "2022-12-12T14:40:09.052200Z",
     "iopub.status.idle": "2022-12-12T14:40:09.073070Z",
     "shell.execute_reply": "2022-12-12T14:40:09.071835Z"
    },
    "papermill": {
     "duration": 0.051247,
     "end_time": "2022-12-12T14:40:09.075813",
     "exception": false,
     "start_time": "2022-12-12T14:40:09.024566",
     "status": "completed"
    },
    "tags": []
   },
   "outputs": [
    {
     "data": {
      "text/html": [
       "<div>\n",
       "<style scoped>\n",
       "    .dataframe tbody tr th:only-of-type {\n",
       "        vertical-align: middle;\n",
       "    }\n",
       "\n",
       "    .dataframe tbody tr th {\n",
       "        vertical-align: top;\n",
       "    }\n",
       "\n",
       "    .dataframe thead th {\n",
       "        text-align: right;\n",
       "    }\n",
       "</style>\n",
       "<table border=\"1\" class=\"dataframe\">\n",
       "  <thead>\n",
       "    <tr style=\"text-align: right;\">\n",
       "      <th></th>\n",
       "      <th>title</th>\n",
       "      <th>authors</th>\n",
       "      <th>original_price</th>\n",
       "      <th>current_price</th>\n",
       "      <th>quantity</th>\n",
       "      <th>category</th>\n",
       "      <th>n_review</th>\n",
       "      <th>avg_rating</th>\n",
       "      <th>pages</th>\n",
       "      <th>manufacturer</th>\n",
       "      <th>discount</th>\n",
       "    </tr>\n",
       "  </thead>\n",
       "  <tbody>\n",
       "    <tr>\n",
       "      <th>0</th>\n",
       "      <td>Giải Thích Ngữ Pháp Tiếng Anh (Với Bài Tập Và ...</td>\n",
       "      <td>Mai Lan Hương</td>\n",
       "      <td>9.28</td>\n",
       "      <td>6.41</td>\n",
       "      <td>5616</td>\n",
       "      <td>Sách Học Tiếng Anh</td>\n",
       "      <td>1014</td>\n",
       "      <td>5.0</td>\n",
       "      <td>560</td>\n",
       "      <td>Nhà Xuất Bản Đà Nẵng</td>\n",
       "      <td>0.31</td>\n",
       "    </tr>\n",
       "    <tr>\n",
       "      <th>1</th>\n",
       "      <td>Không Sợ Chậm Chỉ Sợ Dừng</td>\n",
       "      <td>Vãn Tình</td>\n",
       "      <td>5.44</td>\n",
       "      <td>3.50</td>\n",
       "      <td>13655</td>\n",
       "      <td>Sách nghệ thuật sống đẹp</td>\n",
       "      <td>2802</td>\n",
       "      <td>5.0</td>\n",
       "      <td>364</td>\n",
       "      <td>Nhà Xuất Bản Thế Giới</td>\n",
       "      <td>0.36</td>\n",
       "    </tr>\n",
       "    <tr>\n",
       "      <th>2</th>\n",
       "      <td>Từ Tốt Đến Vĩ Đại (Tái bản 2021)</td>\n",
       "      <td>Unknown</td>\n",
       "      <td>5.49</td>\n",
       "      <td>3.96</td>\n",
       "      <td>8235</td>\n",
       "      <td>Sách kinh tế học</td>\n",
       "      <td>1119</td>\n",
       "      <td>5.0</td>\n",
       "      <td>484</td>\n",
       "      <td>NXB Trẻ</td>\n",
       "      <td>0.28</td>\n",
       "    </tr>\n",
       "    <tr>\n",
       "      <th>3</th>\n",
       "      <td>Muôn Kiếp Nhân Sinh (Bìa Cứng)</td>\n",
       "      <td>Nguyên Phong</td>\n",
       "      <td>9.62</td>\n",
       "      <td>6.35</td>\n",
       "      <td>7391</td>\n",
       "      <td>Others</td>\n",
       "      <td>1421</td>\n",
       "      <td>5.0</td>\n",
       "      <td>424</td>\n",
       "      <td>Nhà Xuất Bản Tổng hợp TP.HCM</td>\n",
       "      <td>0.34</td>\n",
       "    </tr>\n",
       "    <tr>\n",
       "      <th>4</th>\n",
       "      <td>Làm Bạn Với Bầu Trời (Bìa Mềm) (Tặng Kèm Khung...</td>\n",
       "      <td>Nguyễn Nhật Ánh</td>\n",
       "      <td>4.64</td>\n",
       "      <td>3.16</td>\n",
       "      <td>26282</td>\n",
       "      <td>Truyện dài</td>\n",
       "      <td>2043</td>\n",
       "      <td>5.0</td>\n",
       "      <td>220</td>\n",
       "      <td>Unknown</td>\n",
       "      <td>0.32</td>\n",
       "    </tr>\n",
       "    <tr>\n",
       "      <th>5</th>\n",
       "      <td>Muôn Kiếp Nhân Sinh 2</td>\n",
       "      <td>Nguyên Phong</td>\n",
       "      <td>11.31</td>\n",
       "      <td>7.46</td>\n",
       "      <td>23606</td>\n",
       "      <td>Others</td>\n",
       "      <td>5447</td>\n",
       "      <td>5.0</td>\n",
       "      <td>540</td>\n",
       "      <td>Nhà Xuất Bản Tổng hợp TP.HCM</td>\n",
       "      <td>0.34</td>\n",
       "    </tr>\n",
       "  </tbody>\n",
       "</table>\n",
       "</div>"
      ],
      "text/plain": [
       "                                               title          authors  \\\n",
       "0  Giải Thích Ngữ Pháp Tiếng Anh (Với Bài Tập Và ...    Mai Lan Hương   \n",
       "1                         Không Sợ Chậm Chỉ Sợ Dừng          Vãn Tình   \n",
       "2                   Từ Tốt Đến Vĩ Đại (Tái bản 2021)          Unknown   \n",
       "3                     Muôn Kiếp Nhân Sinh (Bìa Cứng)     Nguyên Phong   \n",
       "4  Làm Bạn Với Bầu Trời (Bìa Mềm) (Tặng Kèm Khung...  Nguyễn Nhật Ánh   \n",
       "5                              Muôn Kiếp Nhân Sinh 2     Nguyên Phong   \n",
       "\n",
       "   original_price  current_price  quantity                  category  \\\n",
       "0            9.28           6.41      5616        Sách Học Tiếng Anh   \n",
       "1            5.44           3.50     13655  Sách nghệ thuật sống đẹp   \n",
       "2            5.49           3.96      8235          Sách kinh tế học   \n",
       "3            9.62           6.35      7391                    Others   \n",
       "4            4.64           3.16     26282                Truyện dài   \n",
       "5           11.31           7.46     23606                    Others   \n",
       "\n",
       "   n_review  avg_rating  pages                  manufacturer  discount  \n",
       "0      1014         5.0    560          Nhà Xuất Bản Đà Nẵng      0.31  \n",
       "1      2802         5.0    364         Nhà Xuất Bản Thế Giới      0.36  \n",
       "2      1119         5.0    484                       NXB Trẻ      0.28  \n",
       "3      1421         5.0    424  Nhà Xuất Bản Tổng hợp TP.HCM      0.34  \n",
       "4      2043         5.0    220                       Unknown      0.32  \n",
       "5      5447         5.0    540  Nhà Xuất Bản Tổng hợp TP.HCM      0.34  "
      ]
     },
     "execution_count": 51,
     "metadata": {},
     "output_type": "execute_result"
    }
   ],
   "source": [
    "eda_df.loc[eda_df.title.isin(result)].reset_index(drop=True)"
   ]
  }
 ],
 "metadata": {
  "kernelspec": {
   "display_name": "Python 3",
   "language": "python",
   "name": "python3"
  },
  "language_info": {
   "codemirror_mode": {
    "name": "ipython",
    "version": 3
   },
   "file_extension": ".py",
   "mimetype": "text/x-python",
   "name": "python",
   "nbconvert_exporter": "python",
   "pygments_lexer": "ipython3",
   "version": "3.7.12"
  },
  "papermill": {
   "default_parameters": {},
   "duration": 20.795527,
   "end_time": "2022-12-12T14:40:10.024918",
   "environment_variables": {},
   "exception": null,
   "input_path": "__notebook__.ipynb",
   "output_path": "__notebook__.ipynb",
   "parameters": {},
   "start_time": "2022-12-12T14:39:49.229391",
   "version": "2.3.4"
  }
 },
 "nbformat": 4,
 "nbformat_minor": 5
}
